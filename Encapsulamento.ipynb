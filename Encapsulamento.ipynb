{
  "nbformat": 4,
  "nbformat_minor": 0,
  "metadata": {
    "colab": {
      "provenance": []
    },
    "kernelspec": {
      "name": "python3",
      "display_name": "Python 3"
    },
    "language_info": {
      "name": "python"
    }
  },
  "cells": [
    {
      "cell_type": "markdown",
      "source": [
        "Crie uma classe Produto com um atributo público nome e um método exibir_nome() que exibe o nome do produto."
      ],
      "metadata": {
        "id": "R95rNTOXidIE"
      }
    },
    {
      "cell_type": "code",
      "source": [
        "class Produto:\n",
        "    def __init__(self, nome):\n",
        "        self.nome = nome\n",
        "\n",
        "    def exibir(self):\n",
        "        return f\"O Nome do Produto é: {self.nome}\"\n",
        "\n",
        "produto1 = Produto(\"Sabão\")\n",
        "\n",
        "print(produto1.exibir())\n"
      ],
      "metadata": {
        "colab": {
          "base_uri": "https://localhost:8080/"
        },
        "id": "HGeCf8NLid5L",
        "outputId": "0b58faee-2eca-4e5e-8829-709f3d3f0c4a"
      },
      "execution_count": 8,
      "outputs": [
        {
          "output_type": "stream",
          "name": "stdout",
          "text": [
            "O Nome do Produto é: Sabão\n"
          ]
        }
      ]
    },
    {
      "cell_type": "markdown",
      "source": [
        " Implemente uma classe Carro com um atributo protegido _modelo e um método atualizar_modelo(modelo) para alterar seu valor."
      ],
      "metadata": {
        "id": "-98xSw3rjvxI"
      }
    },
    {
      "cell_type": "code",
      "source": [
        "class Carro:\n",
        "    def __init__(self, modelo):\n",
        "        self._modelo = modelo\n",
        "\n",
        "    def atualizar_modelo(self, novo_modelo):\n",
        "        self._modelo = novo_modelo\n",
        "\n",
        "carro = Carro(\"Ford\")\n",
        "print(carro._modelo)  # Ford\n",
        "\n",
        "carro.atualizar_modelo(\"Toyota\")\n",
        "print(carro._modelo)  # Toyota\n",
        "\n",
        "\n"
      ],
      "metadata": {
        "colab": {
          "base_uri": "https://localhost:8080/"
        },
        "id": "OXFah-ISjwSf",
        "outputId": "f2c9bde7-50a3-4683-a554-a98afe1d960f"
      },
      "execution_count": 13,
      "outputs": [
        {
          "output_type": "stream",
          "name": "stdout",
          "text": [
            "Ford\n",
            "Toyota\n"
          ]
        }
      ]
    },
    {
      "cell_type": "markdown",
      "source": [
        " Desenvolva uma classe ContaBancaria com um atributo privado __senha e métodos acessores para acessar o saldo e realizar operações."
      ],
      "metadata": {
        "id": "56vBWbjblWVL"
      }
    },
    {
      "cell_type": "code",
      "source": [
        "class ContaBancaria:\n",
        "    def __init__(self, titular, senha, saldo_inicial=0):\n",
        "        self.titular = titular\n",
        "        self.__senha = senha\n",
        "        self.__saldo = saldo_inicial\n",
        "\n",
        "    def verificar_saldo(self, senha):\n",
        "        if senha == self.__senha:\n",
        "            return f\"Saldo de {self.titular}: R${self.__saldo:.2f}\"\n",
        "        else:\n",
        "            return \"Senha incorreta. Acesso negado.\"\n",
        "\n",
        "    def depositar(self, valor, senha):\n",
        "        if senha == self.__senha:\n",
        "            if valor > 0:\n",
        "                self.__saldo += valor\n",
        "                return f\"Depósito de R${valor:.2f} realizado com sucesso.\"\n",
        "            else:\n",
        "                return \"Valor inválido para depósito.\"\n",
        "        else:\n",
        "            return \"Senha incorreta. Depósito negado.\"\n",
        "\n",
        "    def sacar(self, valor, senha):\n",
        "        if senha == self.__senha:\n",
        "            if 0 < valor <= self.__saldo:\n",
        "                self.__saldo -= valor\n",
        "                return f\"Saque de R${valor:.2f} realizado com sucesso.\"\n",
        "            else:\n",
        "                return \"Saldo insuficiente ou valor inválido.\"\n",
        "        else:\n",
        "            return \"Senha incorreta. Saque negado.\"\n",
        "\n",
        "\n",
        "conta = ContaBancaria(\"Ana\", \"1234\", 500)\n",
        "\n",
        "print(conta.verificar_saldo(\"1234\"))\n",
        "print(conta.depositar(200, \"1234\"))\n",
        "print(conta.sacar(100, \"1234\"))\n",
        "\n",
        "print(conta.verificar_saldo(\"0000\"))\n",
        "print(conta.sacar(1000, \"1234\"))\n",
        "\n",
        ""
      ],
      "metadata": {
        "colab": {
          "base_uri": "https://localhost:8080/"
        },
        "id": "XXZcMq34lXmR",
        "outputId": "4901157f-9b2a-4dfc-e033-d37b2b4bdaa2"
      },
      "execution_count": 14,
      "outputs": [
        {
          "output_type": "stream",
          "name": "stdout",
          "text": [
            "Saldo de Ana: R$500.00\n",
            "Depósito de R$200.00 realizado com sucesso.\n",
            "Saque de R$100.00 realizado com sucesso.\n",
            "Senha incorreta. Acesso negado.\n",
            "Saldo insuficiente ou valor inválido.\n"
          ]
        }
      ]
    },
    {
      "cell_type": "markdown",
      "source": [
        "Crie uma classe Aluno com um atributo protegido _nota e um método protegido modificar_nota(nota) para alterar a nota"
      ],
      "metadata": {
        "id": "SIg7pQi1mRUU"
      }
    },
    {
      "cell_type": "code",
      "source": [
        "class Aluno:\n",
        "    def __init__(self, nome, nota):\n",
        "        self.nome = nome\n",
        "        self._nota = nota\n",
        "\n",
        "    def _modificar_nota(self, nota_nova):\n",
        "        self._nota = nota_nova\n",
        "\n",
        "    def exibir_nota(self):\n",
        "        return f\"{self.nome} - Nota: {self._nota}\"\n",
        "\n",
        "\n",
        "aluno1 = Aluno(\"Carlos\", 7.5)\n",
        "print(aluno1.exibir_nota())\n",
        "\n",
        "aluno1._modificar_nota(9.0)\n",
        "print(aluno1.exibir_nota())\n"
      ],
      "metadata": {
        "colab": {
          "base_uri": "https://localhost:8080/"
        },
        "id": "ZqCY0FbJmSLG",
        "outputId": "acf7e794-86d2-49fc-b0ea-6b5de5bf5dfc"
      },
      "execution_count": 20,
      "outputs": [
        {
          "output_type": "stream",
          "name": "stdout",
          "text": [
            "Carlos - Nota: 7.5\n",
            "Carlos - Nota: 9.0\n"
          ]
        }
      ]
    },
    {
      "cell_type": "markdown",
      "source": [
        "Implemente uma classe Produto onde o atributo privado __preco pode ser acessado através de um método público get_preco()."
      ],
      "metadata": {
        "id": "1dTfBmdLn-ly"
      }
    },
    {
      "cell_type": "code",
      "source": [
        "class Produto:\n",
        "    def __init__(self, nome, preco):\n",
        "        self.nome = nome\n",
        "        self.__preco = preco\n",
        "\n",
        "    def get_preco(self):\n",
        "        return self.__preco\n",
        "\n",
        "\n",
        "p1 = Produto(\"Notebook\", 3500.00)\n",
        "\n",
        "print(f\"Produto: {p1.nome}\")\n",
        "print(f\"Preço: R${p1.get_preco():.2f}\")\n"
      ],
      "metadata": {
        "colab": {
          "base_uri": "https://localhost:8080/"
        },
        "id": "qdEmVD3WoAm9",
        "outputId": "fe3ce1a5-c7a7-473f-b8d1-d479081df331"
      },
      "execution_count": 22,
      "outputs": [
        {
          "output_type": "stream",
          "name": "stdout",
          "text": [
            "Produto: Notebook\n",
            "Preço: R$3500.00\n"
          ]
        }
      ]
    },
    {
      "cell_type": "markdown",
      "source": [
        "Desenvolva uma classe Usuario que armazene a __senha de forma segura e tenha um método validar_senha(senha) que compara a senha."
      ],
      "metadata": {
        "id": "oJVVYa7moQgY"
      }
    },
    {
      "cell_type": "code",
      "source": [
        "import hashlib\n",
        "\n",
        "class Usuario:\n",
        "    def __init__(self, senha):\n",
        "\n",
        "        self.__senha_hash = self.__gerar_hash(senha)\n",
        "\n",
        "    def __gerar_hash(self, senha):\n",
        "\n",
        "        return hashlib.sha256(senha.encode()).hexdigest()\n",
        "\n",
        "    def validar_senha(self, senha):\n",
        "\n",
        "        return self.__senha_hash == self.__gerar_hash(senha)\n",
        "\n",
        "\n",
        "usuario = Usuario(\"minhaSenha123\")\n",
        "\n",
        "print(usuario.validar_senha(\"minhaSenha123\"))\n",
        "print(usuario.validar_senha(\"senhaErrada\"))\n",
        "\n"
      ],
      "metadata": {
        "colab": {
          "base_uri": "https://localhost:8080/"
        },
        "id": "3rmsDyCSoS6s",
        "outputId": "2a43a6e5-71b1-4ac8-9549-e9a4c75ead0b"
      },
      "execution_count": 23,
      "outputs": [
        {
          "output_type": "stream",
          "name": "stdout",
          "text": [
            "True\n",
            "False\n"
          ]
        }
      ]
    },
    {
      "cell_type": "markdown",
      "source": [
        " Implemente uma classe Livro com atributos públicos titulo e autor, e um atributo privado __isbn com um método get_isbn() para acesso."
      ],
      "metadata": {
        "id": "ikxzGTRpoidI"
      }
    },
    {
      "cell_type": "code",
      "source": [
        "class Livros:\n",
        "    def __init__(self, titulo, autor, isbn):\n",
        "        self.titulo = titulo\n",
        "        self.autor = autor\n",
        "        self._isbn = isbn\n",
        "    def get_isbn(self):\n",
        "        return self._isbn\n",
        "\n",
        "    def __str__(self):\n",
        "        return f\"Título: {self.titulo}, Autor: {self.autor}, ISBN: {self._isbn}\"\n",
        "\n",
        "\n",
        "livro1 = Livros(\"Perdida\", \"Carina Rissi\", \"978-85-67447-27-4\")\n",
        "\n",
        "print(livro1)\n",
        "print(\"ISBN:\", livro1.get_isbn())\n",
        "\n",
        ""
      ],
      "metadata": {
        "colab": {
          "base_uri": "https://localhost:8080/"
        },
        "id": "pETDYGuQojE3",
        "outputId": "06f2b76c-ce28-46bd-bc46-4f580e66812e"
      },
      "execution_count": 26,
      "outputs": [
        {
          "output_type": "stream",
          "name": "stdout",
          "text": [
            "Título: Perdida, Autor: Carina Rissi, ISBN: 978-85-67447-27-4\n",
            "ISBN: 978-85-67447-27-4\n"
          ]
        }
      ]
    },
    {
      "cell_type": "markdown",
      "source": [
        " Crie uma classe Biblioteca que contém uma classe aninhada Livro, com um atributo protegido _titulo."
      ],
      "metadata": {
        "id": "Qg8mSGY-p4qo"
      }
    },
    {
      "cell_type": "code",
      "source": [
        "class Biblioteca:\n",
        "    class Livro:\n",
        "        def __init__(self, titulo):\n",
        "            self._titulo = titulo\n",
        "\n",
        "        def mostrar_titulo(self):\n",
        "            return f\"Título do livro: {self._titulo}\"\n",
        "\n",
        "\n",
        "livro1 = Biblioteca.Livro(\"Dom Casmurro\")\n",
        "\n",
        "print(livro1.mostrar_titulo())\n",
        "\n"
      ],
      "metadata": {
        "colab": {
          "base_uri": "https://localhost:8080/"
        },
        "id": "Erh3FjRXp71i",
        "outputId": "81e5e900-4b09-49b8-b22e-6363c41fd430"
      },
      "execution_count": 27,
      "outputs": [
        {
          "output_type": "stream",
          "name": "stdout",
          "text": [
            "Título do livro: Dom Casmurro\n"
          ]
        }
      ]
    },
    {
      "cell_type": "markdown",
      "source": [
        "Crie uma classe Banco com um atributo privado __taxa_juros e um método privado __calcular_juros(saldo)."
      ],
      "metadata": {
        "id": "oZGz1QbrqW6u"
      }
    },
    {
      "cell_type": "code",
      "source": [
        "class Banco:\n",
        "    def __init__(self, taxa_juros):\n",
        "        self.__taxa_juros = taxa_juros\n",
        "\n",
        "    def __calcular_juros(self, saldo):\n",
        "        return saldo * self.__taxa_juros\n",
        "\n",
        "    def calcular_juros_publico(self, saldo):\n",
        "        return self.__calcular_juros(saldo)\n",
        "\n",
        "banco = Banco(0.05)\n",
        "print(banco.calcular_juros_publico(1000))\n"
      ],
      "metadata": {
        "colab": {
          "base_uri": "https://localhost:8080/"
        },
        "id": "qnxSFl0xqSy8",
        "outputId": "6918aa61-7155-41d7-da2a-ee716ea011ed"
      },
      "execution_count": 33,
      "outputs": [
        {
          "output_type": "stream",
          "name": "stdout",
          "text": [
            "50.0\n"
          ]
        }
      ]
    },
    {
      "cell_type": "markdown",
      "source": [
        "Desenvolva uma classe Reserva que possui um atributo protegido _detalhes, com método mostrar_detalhes() que exibe as informações."
      ],
      "metadata": {
        "id": "ULLP9BiFq72J"
      }
    },
    {
      "cell_type": "code",
      "source": [
        "class Reserva:\n",
        "    def __init__(self, detalhes):\n",
        "        self._detalhes = detalhes\n",
        "\n",
        "    def mostrar_detalhes(self):\n",
        "        print(f\"Detalhes da reserva: {self._detalhes}\")\n",
        "\n",
        "\n",
        "reserva1 = Reserva(\"Quarto para 5 pessoas, check-in dia 20/08\")\n",
        "reserva1.mostrar_detalhes()\n"
      ],
      "metadata": {
        "colab": {
          "base_uri": "https://localhost:8080/"
        },
        "id": "TDcnRliTq2hw",
        "outputId": "2759b327-b8f7-4f7d-a098-2bd04a25f0c3"
      },
      "execution_count": 34,
      "outputs": [
        {
          "output_type": "stream",
          "name": "stdout",
          "text": [
            "Detalhes da reserva: Quarto para 5 pessoas, check-in dia 20/08\n"
          ]
        }
      ]
    },
    {
      "cell_type": "markdown",
      "source": [
        "Crie uma classe Loja que mantém um atributo protegido _estoque e um método adicionar_produto(produto) para modificar o estoque."
      ],
      "metadata": {
        "id": "bvOew1qjrCo-"
      }
    },
    {
      "cell_type": "code",
      "source": [
        "class Loja:\n",
        "    def __init__(self):\n",
        "        self._estoque = []\n",
        "\n",
        "    def adicionar_produto(self, produto):\n",
        "        self._estoque.append(produto)\n",
        "\n",
        "    def mostrar_estoque(self):\n",
        "        return self._estoque\n",
        "\n",
        "\n",
        "loja = Loja()\n",
        "\n",
        "loja.adicionar_produto(\"garrafa\")\n",
        "loja.adicionar_produto(\"caneca\")\n",
        "\n",
        "print(loja.mostrar_estoque())\n"
      ],
      "metadata": {
        "colab": {
          "base_uri": "https://localhost:8080/"
        },
        "id": "dnep-bKyrDQi",
        "outputId": "f21a4559-d0e3-4d7c-ecd8-70263fc98476"
      },
      "execution_count": 35,
      "outputs": [
        {
          "output_type": "stream",
          "name": "stdout",
          "text": [
            "['garrafa', 'caneca']\n"
          ]
        }
      ]
    },
    {
      "cell_type": "markdown",
      "source": [
        "Crie uma classe Cliente com um atributo privado __cpf, um método cadastrar_cliente() e um método estático validar_cpf(cpf)."
      ],
      "metadata": {
        "id": "WwtTLUDYtXd8"
      }
    },
    {
      "cell_type": "code",
      "source": [
        "class Cliente:\n",
        "    def __init__(self):\n",
        "        self.__cpf = None\n",
        "\n",
        "    def cadastrar_cliente(self, cpf):\n",
        "        if self.validar_cpf(cpf):\n",
        "            self.__cpf = cpf\n",
        "            print(\"CPF cadastrado com sucesso!\")\n",
        "        else:\n",
        "            print(\"CPF inválido!\")\n",
        "\n",
        "    @staticmethod\n",
        "    def validar_cpf(cpf):\n",
        "\n",
        "        return isinstance(cpf, str) and len(cpf) == 11 and cpf.isdigit()\n",
        "\n",
        "\n",
        "cliente = Cliente()\n",
        "\n",
        "cliente.cadastrar_cliente(\"12345678901\")\n",
        "cliente.cadastrar_cliente(\"1234abc\")\n"
      ],
      "metadata": {
        "colab": {
          "base_uri": "https://localhost:8080/"
        },
        "id": "y0mh16SMtZp6",
        "outputId": "3931bc4a-47d3-43dd-9063-b134f884eb21"
      },
      "execution_count": 36,
      "outputs": [
        {
          "output_type": "stream",
          "name": "stdout",
          "text": [
            "CPF cadastrado com sucesso!\n",
            "CPF inválido!\n"
          ]
        }
      ]
    }
  ]
}