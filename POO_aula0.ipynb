{
  "nbformat": 4,
  "nbformat_minor": 0,
  "metadata": {
    "colab": {
      "provenance": []
    },
    "kernelspec": {
      "name": "python3",
      "display_name": "Python 3"
    },
    "language_info": {
      "name": "python"
    }
  },
  "cells": [
    {
      "cell_type": "markdown",
      "source": [
        "Uma loja oferece parcelamento de um produto, mas cobra 10% de juros ao parcelar. Peça ao usuário o preço do produto e o número de parcelas e calcule o valor total e o valor de cada parcela."
      ],
      "metadata": {
        "id": "df2gKPT81hBA"
      }
    },
    {
      "cell_type": "code",
      "execution_count": null,
      "metadata": {
        "id": "votbeYcY1gIk"
      },
      "outputs": [],
      "source": [
        "preco = float(input(\"Digite o preço do produto: R$ \"))\n",
        "parcelas = int(input(\"Digite o número de parcelas: \"))\n",
        "\n",
        "if parcelas > 1:\n",
        "    preco_total = preco * 1.10\n",
        "else:\n",
        "    preco_total = preco\n",
        "\n",
        "valor_parcela = preco_total / parcelas\n",
        "\n",
        "print(\"Preço total com juros: R$ {:.2f}\".format(preco_total))\n",
        "print(\"Valor de cada parcela ({}x): R$ {:.2f}\".format(parcelas, valor_parcela))\n"
      ]
    },
    {
      "cell_type": "markdown",
      "source": [
        "Crie um sistema para controlar o estoque de produtos. O programa deve pedir a quantidade inicial de um produto, a quantidade vendida e a quantidade recebida. Calcule a quantidade final em estoque."
      ],
      "metadata": {
        "id": "qzguI4jF1-NZ"
      }
    },
    {
      "cell_type": "code",
      "source": [
        "\n",
        "quantidade_inicial = int(input(\"Digite a quantidade inicial do produto em estoque: \"))\n",
        "\n",
        "\n",
        "quantidade_vendida = int(input(\"Digite a quantidade vendida: \"))\n",
        "\n",
        "\n",
        "quantidade_recebida = int(input(\"Digite a quantidade recebida (reposição): \"))\n",
        "\n",
        "\n",
        "quantidade_final = quantidade_inicial - quantidade_vendida + quantidade_recebida\n",
        "\n",
        "print(\"Quantidade final em estoque:\", quantidade_final)\n"
      ],
      "metadata": {
        "id": "haxlW3jG2A83"
      },
      "execution_count": null,
      "outputs": []
    },
    {
      "cell_type": "markdown",
      "source": [
        "Crie um programa que calcule a pontuação total de um jogador em um jogo.\n",
        "\n",
        "A pontuação será dada por:\n",
        "\n",
        "10 pontos por cada vitória.\n",
        "\n",
        "5 pontos por cada empate.\n",
        "\n",
        "0 pontos por cada derrota.\n",
        "\n",
        "O programa deve calcular o total de pontos de acordo com o número de vitórias, empates e derrotas informados."
      ],
      "metadata": {
        "id": "tdrdnk4P2SL8"
      }
    },
    {
      "cell_type": "code",
      "source": [
        "\n",
        "vitorias = int(input(\"Digite o número de vitórias: \"))\n",
        "empates = int(input(\"Digite o número de empates: \"))\n",
        "derrotas = int(input(\"Digite o número de derrotas: \"))\n",
        "\n",
        "pontuacao_total = (vitorias * 10) + (empates * 5) + (derrotas * 0)\n",
        "\n",
        "print(\"Pontuação total do jogador:\", pontuacao_total)\n"
      ],
      "metadata": {
        "id": "E48iVDfo2Paa"
      },
      "execution_count": null,
      "outputs": []
    },
    {
      "cell_type": "markdown",
      "source": [
        "Crie um programa que calcule a comissão de um vendedor, com base nas vendas realizadas. O vendedor ganha 5% de comissão sobre as vendas, mas existe um bônus de R$ 200,00 se ele vender mais de R$ 10.000,00 no mês.\n",
        "\n",
        "Fórmula:\n",
        "\n",
        "Comissão = 5% do valor das vendas\n",
        "\n",
        "Se as vendas forem acima de R$ 10.000,00 adicionar o bônus de R$ 200."
      ],
      "metadata": {
        "id": "6mpAeHMW2UJm"
      }
    },
    {
      "cell_type": "code",
      "source": [
        "\n",
        "vendas = float(input(\"Digite o valor total das vendas do vendedor: R$ \"))\n",
        "\n",
        "\n",
        "comissao = vendas * 0.05\n",
        "\n",
        "if vendas > 10000:\n",
        "    comissao += 200\n",
        "\n",
        "print(\"Comissão total: R$ {:.2f}\".format(comissao))\n"
      ],
      "metadata": {
        "id": "7cPU-U-W2bqH"
      },
      "execution_count": null,
      "outputs": []
    },
    {
      "cell_type": "markdown",
      "source": [
        "Crie um programa que calcule o salário líquido de um funcionário. O salário bruto é dado pelo usuário, e o programa deve descontar:\n",
        "\n",
        "INSS (10%)\n",
        "\n",
        "Imposto de Renda (IR) de acordo com a faixa salarial:\n",
        "\n",
        "Até R$ 2.000,00: isento\n",
        "\n",
        "De R$ 2.001,00 até R$ 5.000,00: 10%\n",
        "\n",
        "Acima de R$ 5.000,00: 20%"
      ],
      "metadata": {
        "id": "-bvRVja-2gRu"
      }
    },
    {
      "cell_type": "code",
      "source": [
        "\n",
        "salario_bruto = float(input(\"Digite o salário bruto: R$ \"))\n",
        "\n",
        "desconto_inss = salario_bruto * 0.10\n",
        "\n",
        "\n",
        "if salario_bruto <= 2000:\n",
        "    desconto_ir = 0\n",
        "elif salario_bruto <= 5000:\n",
        "    desconto_ir = salario_bruto * 0.10\n",
        "else:\n",
        "    desconto_ir = salario_bruto * 0.20\n",
        "\n",
        "salario_liquido = salario_bruto - desconto_inss - desconto_ir\n",
        "\n",
        "print(f\"Salário líquido: R$ {salario_liquido:.2f}\")\n"
      ],
      "metadata": {
        "id": "qxO-ypov2jgF"
      },
      "execution_count": null,
      "outputs": []
    },
    {
      "cell_type": "markdown",
      "source": [
        "Crie um programa que simule um desconto progressivo em uma compra. O cliente recebe:\n",
        "\n",
        "10% de desconto se o valor da compra for até R$ 500.\n",
        "\n",
        "15% de desconto se o valor da compra for entre R$ 501 e R$ 1000.\n",
        "\n",
        "20% de desconto se o valor da compra for acima de R$ 1000.\n",
        "\n",
        "O programa deve pedir o valor total da compra e aplicar o desconto correspondente."
      ],
      "metadata": {
        "id": "7gADkz-J2n0k"
      }
    },
    {
      "cell_type": "code",
      "source": [
        "\n",
        "valor_compra = float(input(\"Digite o valor total da compra: R$ \"))\n",
        "\n",
        "\n",
        "if valor_compra <= 500:\n",
        "    desconto = valor_compra * 0.10\n",
        "elif valor_compra <= 1000:\n",
        "    desconto = valor_compra * 0.15\n",
        "else:\n",
        "    desconto = valor_compra * 0.20\n",
        "\n",
        "\n",
        "valor_final = valor_compra - desconto\n",
        "\n",
        "print(f\"Desconto aplicado: R$ {desconto:.2f}\")\n",
        "print(f\"Valor final da compra: R$ {valor_final:.2f}\")\n"
      ],
      "metadata": {
        "id": "GeVAUYxj2rVW"
      },
      "execution_count": null,
      "outputs": []
    },
    {
      "cell_type": "markdown",
      "source": [
        "Peça para o usuário digitar um número e exiba a tabuada dele de 1 a 10."
      ],
      "metadata": {
        "id": "7LXQy5ty21jg"
      }
    },
    {
      "cell_type": "code",
      "source": [
        "numero = int(input(\"Digite um número: \"))\n",
        "\n",
        "print(f\"Tabuada do {numero}:\")\n",
        "for i in range(1, 11):\n",
        "    resultado = numero * i\n",
        "    print(f\"{numero} x {i} = {resultado}\")\n"
      ],
      "metadata": {
        "id": "4YGODKY-243x"
      },
      "execution_count": null,
      "outputs": []
    },
    {
      "cell_type": "markdown",
      "source": [
        "Faça um programa que conte de 10 até 1 e exiba \"Feliz Ano Novo!\" no final."
      ],
      "metadata": {
        "id": "iSlKHrmP28c0"
      }
    },
    {
      "cell_type": "code",
      "source": [
        "for i in range(10, 0, -1):\n",
        "    print(i)\n",
        "\n",
        "print(\"Feliz Ano Novo!\")\n"
      ],
      "metadata": {
        "id": "pP7DjAK62-0d"
      },
      "execution_count": null,
      "outputs": []
    },
    {
      "cell_type": "markdown",
      "source": [
        "Some todos os números pares de 1 a 100 e exiba o resultado."
      ],
      "metadata": {
        "id": "DwayE6vr3BZq"
      }
    },
    {
      "cell_type": "code",
      "source": [
        "soma = 0\n",
        "\n",
        "for num in range(2, 101, 2):\n",
        "    soma += num\n",
        "\n",
        "print(\"A soma de todos os números pares de 1 a 100 é:\", soma)\n"
      ],
      "metadata": {
        "id": "MS7k6JXt3EJ7"
      },
      "execution_count": null,
      "outputs": []
    },
    {
      "cell_type": "markdown",
      "source": [
        "Peça ao usuário para digitar uma palavra e conte quantas vogais existem nela."
      ],
      "metadata": {
        "id": "PLZw05vF3H1C"
      }
    },
    {
      "cell_type": "code",
      "source": [
        "\n",
        "palavra = input(\"Digite uma palavra: \")\n",
        "\n",
        "\n",
        "vogais = \"aeiouAEIOU\"\n",
        "\n",
        "\n",
        "contador = 0\n",
        "\n",
        "\n",
        "for letra in palavra:\n",
        "    if letra in vogais:\n",
        "        contador += 1\n",
        "\n",
        "\n",
        "print(f\"A palavra '{palavra}' tem {contador} vogal(is).\")\n"
      ],
      "metadata": {
        "colab": {
          "base_uri": "https://localhost:8080/"
        },
        "id": "4-GLOTIN3MWQ",
        "outputId": "4fd32e61-ace0-4166-c30a-d958659b50d4"
      },
      "execution_count": 2,
      "outputs": [
        {
          "output_type": "stream",
          "name": "stdout",
          "text": [
            "Digite uma palavra: jacqueline\n",
            "A palavra 'jacqueline' tem 5 vogal(is).\n"
          ]
        }
      ]
    },
    {
      "cell_type": "markdown",
      "source": [
        "Peça ao usuário para digitar um número e informe se ele é primo."
      ],
      "metadata": {
        "id": "ZgfixGs63ZH3"
      }
    },
    {
      "cell_type": "code",
      "source": [
        "\n",
        "num = int(input(\"Digite um número inteiro: \"))\n",
        "\n",
        "def eh_primo(n):\n",
        "    if n <= 1:\n",
        "        return False\n",
        "    if n == 2:\n",
        "        return True\n",
        "    if n % 2 == 0:\n",
        "        return False\n",
        "    for i in range(3, int(n**0.5) + 1, 2):\n",
        "        if n % i == 0:\n",
        "            return False\n",
        "    return True\n",
        "\n",
        "if eh_primo(num):\n",
        "    print(f\"O número {num} é primo.\")\n",
        "else:\n",
        "    print(f\"O número {num} não é primo.\")\n"
      ],
      "metadata": {
        "id": "MaJJ7zL33anO"
      },
      "execution_count": null,
      "outputs": []
    },
    {
      "cell_type": "markdown",
      "source": [
        "O programa escolhe um número aleatório entre 1 e 10, e o usuário tem que adivinhar. Ele só para quando o número correto for digitado."
      ],
      "metadata": {
        "id": "_6dw2wj23jYX"
      }
    },
    {
      "cell_type": "code",
      "source": [
        "import random\n",
        "\n",
        "numero_secreto = random.randint(1, 10)\n",
        "\n",
        "while True:\n",
        "    palpite = int(input(\"Tente adivinhar o número (entre 1 e 10): \"))\n",
        "    if palpite == numero_secreto:\n",
        "        print(\"Parabéns! Você acertou!\")\n",
        "        break\n",
        "    else:\n",
        "        print(\"Errado, tente novamente.\")\n"
      ],
      "metadata": {
        "id": "5QwwrgWV3oJ_"
      },
      "execution_count": null,
      "outputs": []
    },
    {
      "cell_type": "markdown",
      "source": [
        "Modifique o programa anterior para contar quantas tentativas o usuário precisou até acertar."
      ],
      "metadata": {
        "id": "4gCYhXHZ3sVG"
      }
    },
    {
      "cell_type": "code",
      "source": [
        "import random\n",
        "\n",
        "numero_secreto = random.randint(1, 10)\n",
        "tentativas = 0\n",
        "\n",
        "while True:\n",
        "    palpite = int(input(\"Tente adivinhar o número (entre 1 e 10): \"))\n",
        "    tentativas += 1\n",
        "    if palpite == numero_secreto:\n",
        "        print(f\"Parabéns! Você acertou em {tentativas} tentativ{'a' if tentativas == 1 else 'as'}!\")\n",
        "        break\n",
        "    else:\n",
        "        print(\"Errado, tente novamente.\")\n"
      ],
      "metadata": {
        "id": "ojIcFV_r3uC4"
      },
      "execution_count": null,
      "outputs": []
    },
    {
      "cell_type": "markdown",
      "source": [
        "Peça para o usuário digitar um número positivo.\n",
        "\n",
        "Se ele digitar um valor negativo, peça novamente até ele digitar corretamente."
      ],
      "metadata": {
        "id": "fPx93fD730OT"
      }
    },
    {
      "cell_type": "code",
      "source": [
        "while True:\n",
        "    numero = float(input(\"Digite um número positivo: \"))\n",
        "    if numero >= 0:\n",
        "        print(f\"Obrigado! Você digitou {numero}.\")\n",
        "        break\n",
        "    else:\n",
        "        print(\"Número inválido. Por favor, digite um número positivo.\")\n"
      ],
      "metadata": {
        "id": "4gtnW3-p30w3"
      },
      "execution_count": null,
      "outputs": []
    },
    {
      "cell_type": "markdown",
      "source": [
        "Crie um menu que permita ao usuário escolher opções até ele decidir sair."
      ],
      "metadata": {
        "id": "5I6EWQuC36bP"
      }
    },
    {
      "cell_type": "code",
      "source": [
        "while True:\n",
        "    print(\"\\nMenu:\")\n",
        "    print(\"1 - Dizer Olá\")\n",
        "    print(\"2 - Exibir um número aleatório\")\n",
        "    print(\"3 - Sair\")\n",
        "\n",
        "    opcao = input(\"Escolha uma opção: \")\n",
        "\n",
        "    if opcao == \"1\":\n",
        "        print(\"Olá! Tudo bem?\")\n",
        "    elif opcao == \"2\":\n",
        "        import random\n",
        "        print(f\"Número aleatório: {random.randint(1, 100)}\")\n",
        "    elif opcao == \"3\":\n",
        "        print(\"Saindo... Até mais!\")\n",
        "        break\n",
        "    else:\n",
        "        print(\"Opção inválida. Tente novamente.\")\n"
      ],
      "metadata": {
        "id": "FjnIT7qT378F"
      },
      "execution_count": null,
      "outputs": []
    },
    {
      "cell_type": "markdown",
      "source": [
        "Crie uma função calculadora(a, b, operacao) que recebe dois números e uma operação (+, -, *, /) e retorna o resultado."
      ],
      "metadata": {
        "id": "TiAx-bR54CGU"
      }
    },
    {
      "cell_type": "code",
      "source": [
        "def calculadora(a, b, operacao):\n",
        "    if operacao == '+':\n",
        "        return a + b\n",
        "    elif operacao == '-':\n",
        "        return a - b\n",
        "    elif operacao == '*':\n",
        "        return a * b\n",
        "    elif operacao == '/':\n",
        "        if b == 0:\n",
        "            return \"Erro: Divisão por zero não é permitida.\"\n",
        "        return a / b\n",
        "    else:\n",
        "        return \"Operação inválida.\"\n",
        "\n",
        "print(calculadora(10, 5, '+'))\n",
        "print(calculadora(10, 5, '-'))\n",
        "print(calculadora(10, 5, '*'))\n",
        "print(calculadora(10, 0, '/'))\n"
      ],
      "metadata": {
        "id": "DU7bPFmu4EkA"
      },
      "execution_count": null,
      "outputs": []
    },
    {
      "cell_type": "markdown",
      "source": [
        "Crie uma função eh_par(numero) que recebe um número e retorna True se for par e False se for ímpar."
      ],
      "metadata": {
        "id": "LhSDf1cB4JjZ"
      }
    },
    {
      "cell_type": "code",
      "source": [
        "def eh_par(numero):\n",
        "    return numero % 2 == 0\n",
        "\n",
        "\n",
        "print(eh_par(4))\n",
        "print(eh_par(7))\n"
      ],
      "metadata": {
        "colab": {
          "base_uri": "https://localhost:8080/"
        },
        "id": "k0mKKe8g4L0B",
        "outputId": "542bb704-bf7c-46bc-9f23-584e97befb51"
      },
      "execution_count": 3,
      "outputs": [
        {
          "output_type": "stream",
          "name": "stdout",
          "text": [
            "True\n",
            "False\n"
          ]
        }
      ]
    },
    {
      "cell_type": "markdown",
      "source": [
        "Crie uma função calcular_media(notas) que recebe uma lista de notas e retorna a média."
      ],
      "metadata": {
        "id": "S6tDaoys4RFp"
      }
    },
    {
      "cell_type": "code",
      "source": [
        "def calcular_media(notas):\n",
        "    if not notas:\n",
        "        return 0\n",
        "    return sum(notas) / len(notas)\n",
        "\n",
        "\n",
        "notas = [7.5, 8.0, 9.5, 6.0]\n",
        "media = calcular_media(notas)\n",
        "print(f\"A média é: {media}\")\n"
      ],
      "metadata": {
        "colab": {
          "base_uri": "https://localhost:8080/"
        },
        "id": "6jKL3KpH4Tc8",
        "outputId": "53c06eb4-2029-42e8-af9f-570ce4e300e8"
      },
      "execution_count": 4,
      "outputs": [
        {
          "output_type": "stream",
          "name": "stdout",
          "text": [
            "A média é: 7.75\n"
          ]
        }
      ]
    },
    {
      "cell_type": "markdown",
      "source": [
        "Crie um programa que solicita 3 notas do usuário, armazena em uma lista e calcula a média."
      ],
      "metadata": {
        "id": "eVE1YHx54eOg"
      }
    },
    {
      "cell_type": "code",
      "source": [
        "def calcular_media(notas):\n",
        "    if not notas:\n",
        "        return 0\n",
        "    return sum(notas) / len(notas)\n",
        "\n",
        "notas = []\n",
        "\n",
        "for i in range(1, 4):\n",
        "    while True:\n",
        "        try:\n",
        "            nota = float(input(f\"Digite a nota {i}: \"))\n",
        "            if 0 <= nota <= 10:\n",
        "                notas.append(nota)\n",
        "                break\n",
        "            else:\n",
        "                print(\"Nota inválida! Digite um valor entre 0 e 10.\")\n",
        "        except ValueError:\n",
        "            print(\"Entrada inválida! Por favor, digite um número.\")\n",
        "\n",
        "media = calcular_media(notas)\n",
        "print(f\"A média das notas é: {media:.2f}\")\n"
      ],
      "metadata": {
        "id": "Hmn6-Ozl4cgx"
      },
      "execution_count": null,
      "outputs": []
    },
    {
      "cell_type": "markdown",
      "source": [
        "Crie um programa que armazena números de 1 a 10 em uma lista e exibe apenas os pares."
      ],
      "metadata": {
        "id": "ahM2n1794izP"
      }
    },
    {
      "cell_type": "code",
      "source": [
        "numeros = list(range(1, 11))\n",
        "pares = [num for num in numeros if num % 2 == 0]\n",
        "\n",
        "print(\"Números pares entre 1 e 10:\")\n",
        "for par in pares:\n",
        "    print(par)\n"
      ],
      "metadata": {
        "id": "w25fGPe24lZc"
      },
      "execution_count": null,
      "outputs": []
    },
    {
      "cell_type": "markdown",
      "source": [
        "Crie um programa onde o usuário pode adicionar itens a uma lista de compras e exibir os itens ao final."
      ],
      "metadata": {
        "id": "F-gKMY2x4q3R"
      }
    },
    {
      "cell_type": "code",
      "source": [
        "lista_compras = []\n",
        "\n",
        "print(\"Digite os itens da sua lista de compras. Digite 'sair' para finalizar.\")\n",
        "\n",
        "while True:\n",
        "    item = input(\"Adicionar item: \")\n",
        "    if item.lower() == 'sair':\n",
        "        break\n",
        "    elif item.strip() == \"\":\n",
        "        print(\"Entrada vazia. Por favor, digite um item válido.\")\n",
        "    else:\n",
        "        lista_compras.append(item)\n",
        "        print(f\"'{item}' adicionado à lista.\")\n",
        "\n",
        "print(\"\\nSua lista de compras:\")\n",
        "for i, item in enumerate(lista_compras, 1):\n",
        "    print(f\"{i}. {item}\")\n"
      ],
      "metadata": {
        "id": "QPfJ4OkG4sSJ"
      },
      "execution_count": null,
      "outputs": []
    },
    {
      "cell_type": "markdown",
      "source": [
        "Crie um dicionário para armazenar números de telefone e permita que o usuário consulte um contato."
      ],
      "metadata": {
        "id": "J0F6M9BU4yvx"
      }
    },
    {
      "cell_type": "code",
      "source": [
        "\n",
        "agenda = {\n",
        "    \"João\": \"1199999-9999\",\n",
        "    \"Maria\": \"1188888-8888\",\n",
        "    \"Carlos\": \"1177777-7777\"\n",
        "}\n",
        "\n",
        "while True:\n",
        "    nome = input(\"Digite o nome do contato para consultar (ou 'sair' para encerrar): \").strip()\n",
        "    if nome.lower() == \"sair\":\n",
        "        print(\"Encerrando a consulta.\")\n",
        "        break\n",
        "    elif nome in agenda:\n",
        "        print(f\"Telefone de {nome}: {agenda[nome]}\")\n",
        "    else:\n",
        "        print(f\"Contato '{nome}' não encontrado na agenda.\")\n"
      ],
      "metadata": {
        "id": "C0JmmdVU40Fo"
      },
      "execution_count": null,
      "outputs": []
    },
    {
      "cell_type": "markdown",
      "source": [
        "Crie um dicionário onde o usuário possa cadastrar alunos e suas notas."
      ],
      "metadata": {
        "id": "PtMo9h1X45-p"
      }
    },
    {
      "cell_type": "code",
      "source": [
        "alunos = {}\n",
        "\n",
        "print(\"Cadastro de alunos e suas notas. Digite 'sair' para encerrar.\")\n",
        "\n",
        "while True:\n",
        "    nome = input(\"Digite o nome do aluno: \").strip()\n",
        "    if nome.lower() == \"sair\":\n",
        "        break\n",
        "    if nome == \"\":\n",
        "        print(\"Nome inválido. Tente novamente.\")\n",
        "        continue\n",
        "\n",
        "    while True:\n",
        "        try:\n",
        "            nota = float(input(f\"Digite a nota do aluno {nome}: \"))\n",
        "            if 0 <= nota <= 10:\n",
        "                break\n",
        "            else:\n",
        "                print(\"Nota inválida! Deve estar entre 0 e 10.\")\n",
        "        except ValueError:\n",
        "            print(\"Entrada inválida! Digite um número válido.\")\n",
        "\n",
        "    alunos[nome] = nota\n",
        "    print(f\"Aluno {nome} cadastrado com nota {nota}.\\n\")\n",
        "\n",
        "print(\"\\nAlunos cadastrados e suas notas:\")\n",
        "for aluno, nota in alunos.items():\n",
        "    print(f\"{aluno}: {nota}\")\n"
      ],
      "metadata": {
        "id": "epr3WY4F5B2h"
      },
      "execution_count": null,
      "outputs": []
    },
    {
      "cell_type": "markdown",
      "source": [
        "Crie um dicionário que funcione como um mini tradutor"
      ],
      "metadata": {
        "id": "uo7P9tgF5LDV"
      }
    },
    {
      "cell_type": "code",
      "source": [
        "tradutor = {\n",
        "    \"casa\": \"house\",\n",
        "    \"gato\": \"cat\",\n",
        "    \"cachorro\": \"dog\",\n",
        "    \"carro\": \"car\",\n",
        "    \"livro\": \"book\",\n",
        "    \"mesa\": \"table\",\n",
        "    \"cadeira\": \"chair\",\n",
        "    \"janela\": \"window\",\n",
        "    \"porta\": \"door\",\n",
        "    \"flor\": \"flower\"\n",
        "}\n",
        "\n",
        "print(\"Mini Tradutor Português -> Inglês\")\n",
        "print(\"Digite 'sair' para encerrar.\")\n",
        "\n",
        "while True:\n",
        "    palavra = input(\"Digite uma palavra em português: \").strip().lower()\n",
        "    if palavra == \"sair\":\n",
        "        print(\"Encerrando o tradutor.\")\n",
        "        break\n",
        "    elif palavra in tradutor:\n",
        "        print(f\"A tradução de '{palavra}' é '{tradutor[palavra]}'.\")\n",
        "    else:\n",
        "        print(f\"Desculpe, a palavra '{palavra}' não está no dicionário.\")\n"
      ],
      "metadata": {
        "id": "H-Wn5xGC5NTb"
      },
      "execution_count": null,
      "outputs": []
    },
    {
      "cell_type": "markdown",
      "source": [
        "Crie uma classe Produto com os atributos id_produto, nome e preco.\n",
        "Utilize um dicionário para armazenar os produtos.\n",
        "Permita adicionar e buscar produtos pelo ID."
      ],
      "metadata": {
        "id": "6iI7CkGW5ad8"
      }
    },
    {
      "cell_type": "code",
      "source": [
        "class Produto:\n",
        "    def __init__(self, id_produto, nome, preco):\n",
        "        self.id_produto = id_produto\n",
        "        self.nome = nome\n",
        "        self.preco = preco\n",
        "\n",
        "    def __str__(self):\n",
        "        return f\"ID: {self.id_produto}, Nome: {self.nome}, Preço: R$ {self.preco:.2f}\"\n",
        "\n",
        "\n",
        "produtos = {}\n",
        "\n",
        "def adicionar_produto(id_produto, nome, preco):\n",
        "    if id_produto in produtos:\n",
        "        print(f\"Produto com ID {id_produto} já existe.\")\n",
        "    else:\n",
        "        produtos[id_produto] = Produto(id_produto, nome, preco)\n",
        "        print(f\"Produto '{nome}' adicionado com sucesso.\")\n",
        "\n",
        "def buscar_produto(id_produto):\n",
        "    if id_produto in produtos:\n",
        "        print(\"Produto encontrado:\")\n",
        "        print(produtos[id_produto])\n",
        "    else:\n",
        "        print(f\"Produto com ID {id_produto} não encontrado.\")\n",
        "\n",
        "adicionar_produto(1, \"Camiseta\", 49.90)\n",
        "adicionar_produto(2, \"Calça Jeans\", 99.90)\n",
        "\n",
        "buscar_produto(1)\n",
        "buscar_produto(3)\n"
      ],
      "metadata": {
        "id": "Gej0weQD5d-0"
      },
      "execution_count": null,
      "outputs": []
    },
    {
      "cell_type": "markdown",
      "source": [
        "Crie uma classe Aluno onde cada aluno pode ter múltiplas notas (armazenadas em uma lista).\n",
        "\n",
        "Implemente um método para calcular a média do aluno.\n",
        "\n",
        "Permita adicionar novas notas dinamicamente."
      ],
      "metadata": {
        "id": "JJxV6m-c5jDF"
      }
    },
    {
      "cell_type": "code",
      "source": [
        "class Aluno:\n",
        "    def __init__(self, nome):\n",
        "        self.nome = nome\n",
        "        self.notas = []\n",
        "\n",
        "    def adicionar_nota(self, nota):\n",
        "        if 0 <= nota <= 10:\n",
        "            self.notas.append(nota)\n",
        "        else:\n",
        "            print(\"Nota inválida! Deve ser entre 0 e 10.\")\n",
        "\n",
        "    def calcular_media(self):\n",
        "        if not self.notas:\n",
        "            return 0\n",
        "        return sum(self.notas) / len(self.notas)\n",
        "\n",
        "    def __str__(self):\n",
        "        return f\"Aluno: {self.nome}, Notas: {self.notas}, Média: {self.calcular_media():.2f}\"\n",
        "\n",
        "\n",
        "aluno = Aluno(\"Maria\")\n",
        "aluno.adicionar_nota(7.5)\n",
        "aluno.adicionar_nota(8.0)\n",
        "aluno.adicionar_nota(9.0)\n",
        "\n",
        "print(aluno)\n"
      ],
      "metadata": {
        "id": "_fRcX2Mq5mOG"
      },
      "execution_count": null,
      "outputs": []
    }
  ]
}