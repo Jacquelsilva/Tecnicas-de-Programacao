{
  "nbformat": 4,
  "nbformat_minor": 0,
  "metadata": {
    "colab": {
      "provenance": []
    },
    "kernelspec": {
      "name": "python3",
      "display_name": "Python 3"
    },
    "language_info": {
      "name": "python"
    }
  },
  "cells": [
    {
      "cell_type": "markdown",
      "source": [
        "Crie a classe Animal com o método falar(). Crie Cachorro e Gato, sobrescrevendo falar() com seus respectivos sons."
      ],
      "metadata": {
        "id": "BPRMDRQh5nlt"
      }
    },
    {
      "cell_type": "code",
      "source": [
        "class Animal:\n",
        "  def falar(self):\n",
        "    print(\"O animal: \")\n",
        "\n",
        "class Cachorro(Animal):\n",
        "    def falar(self):\n",
        "      print(\"AuAu\")\n",
        "\n",
        "\n",
        "class Gato(Animal):\n",
        "  def falar(self):\n",
        "    print(\"Miau Miau\")\n",
        "\n",
        "animais = [Cachorro(), Gato()]\n",
        "\n",
        "for Animal in animais:\n",
        "  Animal.falar()\n",
        "\n",
        "\n"
      ],
      "metadata": {
        "colab": {
          "base_uri": "https://localhost:8080/"
        },
        "id": "thmojWIX5qCk",
        "outputId": "73d0fbdc-5e8b-46b7-cf2e-2e852ac4142c"
      },
      "execution_count": 14,
      "outputs": [
        {
          "output_type": "stream",
          "name": "stdout",
          "text": [
            "AuAu\n",
            "Miau Miau\n"
          ]
        }
      ]
    },
    {
      "cell_type": "markdown",
      "source": [
        "Crie Funcionario com nome e salario. Crie Gerente, herdando de Funcionario e adicionando departamento."
      ],
      "metadata": {
        "id": "6CGLYbiPQJuN"
      }
    },
    {
      "cell_type": "code",
      "source": [
        "class Funcionario:\n",
        "  def __init__(self, nome, salario):\n",
        "    self.nome = nome\n",
        "    self.salario = salario\n",
        "\n",
        "  def exibir(self):\n",
        "      print(f\"Olá meu nome é:  {self.nome} e meu salario é {self.salario}\")\n",
        "\n",
        "class Gerente(Funcionario):\n",
        "  def __init__(self, nome, salario, departamento):\n",
        "    super().__init__(nome, salario)\n",
        "    self.departamento = departamento\n",
        "\n",
        "  def exibir(self):\n",
        "      print(f\"Olá meu nome é:  {self.nome} e meu salario é {self.salario} e sou gerente do departamento do {self.departamento}\")\n",
        "\n",
        "\n",
        "f1 = Funcionario(\"ANA\", 1500)\n",
        "f1.exibir()\n",
        "\n",
        "f2 = Gerente(\"Maria\", 4000, \"RH\")\n",
        "f2.exibir()"
      ],
      "metadata": {
        "colab": {
          "base_uri": "https://localhost:8080/"
        },
        "id": "eSPSCRieQLGE",
        "outputId": "05896d59-4905-447f-c96a-36c81919130e"
      },
      "execution_count": 26,
      "outputs": [
        {
          "output_type": "stream",
          "name": "stdout",
          "text": [
            "Olá meu nome é:  ANA e meu salario é 1500\n",
            "Olá meu nome é:  Maria e meu salario é 4000 e sou gerente do departamento do RH\n"
          ]
        }
      ]
    },
    {
      "cell_type": "markdown",
      "source": [
        "Crie Veiculo com marca e ano. Crie Carro e Moto, adicionando atributos e métodos específicos."
      ],
      "metadata": {
        "id": "NqqulBmPUFt4"
      }
    },
    {
      "cell_type": "code",
      "source": [
        "class Veiculo:\n",
        "  def __init__(self, marca, ano):\n",
        "    self.marca = marca\n",
        "    self.ano = ano\n",
        "\n",
        "  def exibir(self):\n",
        "    print(f\"O veiculo é da Marca: {self.marca}, e é do ano: {self.ano}\")\n",
        "\n",
        "class Carro(Veiculo):\n",
        "  def __init__(self, marca, ano, cor):\n",
        "    super().__init__(marca, ano)\n",
        "    self.cor = cor\n",
        "\n",
        "  def exibir(self):\n",
        "        print(f\"O carro é da marca: {self.marca}, ano: {self.ano}, cor: {self.cor}\")\n",
        "\n",
        "class Moto(Veiculo):\n",
        "  def __init__(self, marca, ano, quantidade):\n",
        "    super().__init__(marca, ano)\n",
        "    self.quantidade = quantidade\n",
        "\n",
        "  def exibir(self):\n",
        "        print(f\"A Moto é da marca: {self.marca}, ano: {self.ano}, Quantidade: {self.quantidade}\")\n",
        "\n",
        "\n",
        "transporte1 = Veiculo(\"Ford\", 2025)\n",
        "transporte1.exibir()\n",
        "\n",
        "carro1 = Carro(\"Toyota\", 2015, \"Azul\")\n",
        "carro1.exibir()\n",
        "\n",
        "moto1 = Moto(\"BYD\", 2016, 5 )\n",
        "moto1.exibir()\n",
        "\n",
        "\n"
      ],
      "metadata": {
        "colab": {
          "base_uri": "https://localhost:8080/"
        },
        "id": "2YEDM1tKUHaR",
        "outputId": "961009c1-9468-465f-e2c7-3b25f0203b8a"
      },
      "execution_count": 38,
      "outputs": [
        {
          "output_type": "stream",
          "name": "stdout",
          "text": [
            "O veiculo é da Marca: Ford, e é do ano: 2025\n",
            "O carro é da marca: Toyota, ano: 2015, cor: Azul\n",
            "A Moto é da marca: BYD, ano: 2016, Quantidade: 5\n"
          ]
        }
      ]
    },
    {
      "cell_type": "markdown",
      "source": [
        "Crie Forma com calcular_area(). Crie Quadrado e Círculo e sobrescreva com cálculos reais."
      ],
      "metadata": {
        "id": "SFHyDkzvXbMC"
      }
    },
    {
      "cell_type": "code",
      "source": [
        "import math\n",
        "\n",
        "class Forma:\n",
        "    def calcular_area(self):\n",
        "        raise NotImplementedError(\"Este método deve ser sobrescrito pelas subclasses.\")\n",
        "\n",
        "\n",
        "class Quadrado(Forma):\n",
        "    def __init__(self, lado):\n",
        "        self.lado = lado\n",
        "\n",
        "    def calcular_area(self):\n",
        "        return self.lado ** 2\n",
        "\n",
        "\n",
        "class Circulo(Forma):\n",
        "    def __init__(self, raio):\n",
        "        self.raio = raio\n",
        "\n",
        "    def calcular_area(self):\n",
        "        return math.pi * (self.raio ** 2)\n",
        "\n",
        "forma1 = Quadrado(4)\n",
        "print(f\"Área do quadrado: {forma1.calcular_area():.2f}\")\n",
        "\n",
        "forma2 = Circulo(3)\n",
        "print(f\"Área do círculo: {forma2.calcular_area():.2f}\")\n"
      ],
      "metadata": {
        "colab": {
          "base_uri": "https://localhost:8080/"
        },
        "id": "QJEP-qeKXbzm",
        "outputId": "b78eeaf9-f62f-41b1-d814-24ab8305aa02"
      },
      "execution_count": 55,
      "outputs": [
        {
          "output_type": "stream",
          "name": "stdout",
          "text": [
            "Área do quadrado: 16.00\n",
            "Área do círculo: 28.27\n"
          ]
        }
      ]
    },
    {
      "cell_type": "markdown",
      "source": [
        "Crie Pessoa com nome e idade. Crie Aluno que herda de Pessoa, adicionando matricula."
      ],
      "metadata": {
        "id": "IqXcvcj7XcP_"
      }
    },
    {
      "cell_type": "code",
      "source": [
        "class Pessoa:\n",
        "  def __init__(self, nome, idade):\n",
        "    self.nome = nome\n",
        "    self.idade = idade\n",
        "\n",
        "  def exibir(self):\n",
        "    print(f\"Meu nome é: {self.nome} e idade: {self.idade}\")\n",
        "\n",
        "class Aluno(Pessoa):\n",
        "  def __init__(self, nome, idade, matricula):\n",
        "    super().__init__(nome, idade)\n",
        "    self.matricula = matricula\n",
        "\n",
        "  def exibir(self):\n",
        "    print(f\"Meu nome é: {self.nome}, idade: {self.idade} e matriculado no {self.matricula}\")\n",
        "\n",
        "\n",
        "pessoa1 = Pessoa(\"ANA\", 5)\n",
        "pessoa1.exibir()\n",
        "\n",
        "aluno1 = Aluno(\"Maria\", 7, \"1° ano\")\n",
        "aluno1.exibir()"
      ],
      "metadata": {
        "colab": {
          "base_uri": "https://localhost:8080/"
        },
        "id": "Xm8xy8ElXe8M",
        "outputId": "5a34c383-6b4f-4649-d6b7-36b452bd4851"
      },
      "execution_count": 39,
      "outputs": [
        {
          "output_type": "stream",
          "name": "stdout",
          "text": [
            "Meu nome é: ANA e idade: 5\n",
            "Meu nome é: Maria, idade: 7 e matriculado no 1° ano\n"
          ]
        }
      ]
    },
    {
      "cell_type": "markdown",
      "source": [
        "Crie SerVivo, Animal, Passaro com métodos de identificação."
      ],
      "metadata": {
        "id": "ROAsvGVnZvl0"
      }
    },
    {
      "cell_type": "code",
      "source": [
        "class SerVivo:\n",
        "    def __init__(self, nome):\n",
        "        self.nome = nome\n",
        "\n",
        "    def identificar(self):\n",
        "        print(f\"Eu sou um ser vivo chamado {self.nome}.\")\n",
        "\n",
        "\n",
        "class Animal(SerVivo):\n",
        "    def __init__(self, nome, especie):\n",
        "        super().__init__(nome)\n",
        "        self.especie = especie\n",
        "\n",
        "    def identificar(self):\n",
        "        print(f\"Eu sou um animal da espécie {self.especie}, meu nome é {self.nome}.\")\n",
        "\n",
        "\n",
        "class Passaro(Animal):\n",
        "    def __init__(self, nome, especie, cor):\n",
        "        super().__init__(nome, especie)\n",
        "        self.cor = cor\n",
        "\n",
        "    def identificar(self):\n",
        "        print(f\"Eu sou um pássaro {self.nome}, da espécie {self.especie}, com penas da cor {self.cor}.\")\n",
        "\n",
        "ser = SerVivo(\"Organismo\")\n",
        "animal = Animal(\"Leão\", \"Felino\")\n",
        "passaro = Passaro(\"Papagaio\", \"Psitacídeo\", \"verde\")\n",
        "\n",
        "ser.identificar()\n",
        "animal.identificar()\n",
        "passaro.identificar()\n",
        "\n",
        "\n",
        ""
      ],
      "metadata": {
        "colab": {
          "base_uri": "https://localhost:8080/"
        },
        "id": "JWGq9oCgZwIf",
        "outputId": "1b0e97bc-891d-42b1-84f6-0d445e9537ec"
      },
      "execution_count": 40,
      "outputs": [
        {
          "output_type": "stream",
          "name": "stdout",
          "text": [
            "Eu sou um ser vivo chamado Organismo.\n",
            "Eu sou um animal da espécie Felino, meu nome é Leão.\n",
            "Eu sou um pássaro Papagaio, da espécie Psitacídeo, com penas da cor verde.\n"
          ]
        }
      ]
    },
    {
      "cell_type": "markdown",
      "source": [
        "Crie Funcionario com nome, salario. Crie Programador que usa super() e adiciona linguagem"
      ],
      "metadata": {
        "id": "Wq58hnW0ai32"
      }
    },
    {
      "cell_type": "code",
      "source": [
        "class Funcionario:\n",
        "  def __init__(self, nome, salario):\n",
        "    self.nome = nome\n",
        "    self.salario = salario\n",
        "\n",
        "  def exibir(self):\n",
        "    print(f\"Meu nome é {self.nome} e meu salario é {self.salario}\")\n",
        "\n",
        "class Programador(Funcionario):\n",
        "  def __init__(self, nome, salario, linguagem):\n",
        "     super().__init__(nome, salario)\n",
        "     self.linguagem = linguagem\n",
        "\n",
        "  def exibir(self):\n",
        "     print(f\"Meu nome é {self.nome} e meu salario é {self.salario} e a linguagem que trabalho é {self.linguagem}\")\n",
        "\n",
        "\n",
        "funcionario1 = Funcionario(\"Pedro\", 1500)\n",
        "funcionario1.exibir()\n",
        "\n",
        "programador1 = Programador(\"Ana\", 5000, \"Python\")\n",
        "programador1.exibir()\n",
        ""
      ],
      "metadata": {
        "colab": {
          "base_uri": "https://localhost:8080/"
        },
        "id": "DFfv5qgcakMH",
        "outputId": "f53d1453-849c-4775-8fbd-e140d9393b7f"
      },
      "execution_count": 41,
      "outputs": [
        {
          "output_type": "stream",
          "name": "stdout",
          "text": [
            "Meu nome é Pedro e meu salario é 1500\n",
            "Meu nome é Ana e meu salario é 5000 e a linguagem que trabalho é Python\n"
          ]
        }
      ]
    },
    {
      "cell_type": "markdown",
      "source": [
        "Crie Conta com saldo, depositar e sacar. Crie ContaCorrente com limite e sobrescreva sacar."
      ],
      "metadata": {
        "id": "rGiFWjRpbxSF"
      }
    },
    {
      "cell_type": "code",
      "source": [
        "class Conta:\n",
        "    def __init__(self, saldo=0):\n",
        "        self.saldo = saldo\n",
        "\n",
        "    def depositar(self, valor):\n",
        "        self.saldo += valor\n",
        "        print(f\"Depósito de R${valor:.2f} realizado. Saldo atual: R${self.saldo:.2f}\")\n",
        "\n",
        "    def sacar(self, valor):\n",
        "        if valor <= self.saldo:\n",
        "            self.saldo -= valor\n",
        "            print(f\"Saque de R${valor:.2f} realizado. Saldo restante: R${self.saldo:.2f}\")\n",
        "        else:\n",
        "            print(f\"Saldo insuficiente. Saque de R${valor:.2f} não realizado. Saldo atual: R${self.saldo:.2f}\")\n",
        "\n",
        "\n",
        "class ContaCorrente(Conta):\n",
        "    def __init__(self, saldo=0, limite=0):\n",
        "        super().__init__(saldo)\n",
        "        self.limite = limite\n",
        "\n",
        "    def sacar(self, valor):\n",
        "        if valor <= self.saldo + self.limite:\n",
        "            self.saldo -= valor\n",
        "            print(f\"Saque de R${valor:.2f} realizado com limite. Saldo atual: R${self.saldo:.2f}\")\n",
        "        else:\n",
        "            print(f\"Limite excedido. Saque de R${valor:.2f} não realizado. Saldo + limite: R${self.saldo + self.limite:.2f}\")\n",
        "\n",
        "\n",
        "\n",
        "conta_simples = Conta(100)\n",
        "conta_simples.depositar(50)\n",
        "conta_simples.sacar(120)\n",
        "conta_simples.sacar(50)\n",
        "\n",
        "print(\"------\")\n",
        "\n",
        "conta_corrente = ContaCorrente(100, limite=50)\n",
        "conta_corrente.sacar(120)\n",
        "conta_corrente.sacar(50)\n"
      ],
      "metadata": {
        "colab": {
          "base_uri": "https://localhost:8080/"
        },
        "id": "j_i7DgRVbyDh",
        "outputId": "1402c92e-81ab-45bd-94d1-da4f4909d30f"
      },
      "execution_count": 54,
      "outputs": [
        {
          "output_type": "stream",
          "name": "stdout",
          "text": [
            "Depósito de R$50.00 realizado. Saldo atual: R$150.00\n",
            "Saque de R$120.00 realizado. Saldo restante: R$30.00\n",
            "Saldo insuficiente. Saque de R$50.00 não realizado. Saldo atual: R$30.00\n",
            "------\n",
            "Saque de R$120.00 realizado com limite. Saldo atual: R$-20.00\n",
            "Limite excedido. Saque de R$50.00 não realizado. Saldo + limite: R$30.00\n"
          ]
        }
      ]
    },
    {
      "cell_type": "markdown",
      "source": [
        "Crie Personagem com vida e forca. Crie Guerreiro e Mago, cada um com habilidade própria."
      ],
      "metadata": {
        "id": "PVBjo9BZb0TL"
      }
    },
    {
      "cell_type": "code",
      "source": [
        "class Personagem:\n",
        "  def __init__(self,nome, vida, forca):\n",
        "    self.vida = vida\n",
        "    self.forca = forca\n",
        "    self.nome = nome\n",
        "\n",
        "  def exibir(self):\n",
        "    print(f\"Meu nome {self.nome}, vida: {self.vida} e forca: {self.forca}\")\n",
        "\n",
        "\n",
        "class Guerreiro(Personagem):\n",
        "  def __init__(self, nome, vida, forca, habilidade):\n",
        "     super().__init__(nome, vida, forca)\n",
        "     self.habilidade = habilidade\n",
        "\n",
        "  def exibir(self):\n",
        "    print(f\"Meu nome {self.nome}, vida: {self.vida} , forca: {self.forca} e habilidade: {self.habilidade}\")\n",
        "\n",
        "\n",
        "class Mago(Personagem):\n",
        "  def __init__(self, nome, vida, forca, habilidade, caracteristica):\n",
        "    super().__init__(nome, vida, forca)\n",
        "    self.caracteristica = caracteristica\n",
        "    self.habilidade = habilidade\n",
        "\n",
        "  def exibir(self):\n",
        "    print(f\"Meu nome {self.nome}, vida: {self.vida} , forca: {self.forca} e habilidade: {self.habilidade}, caracteristica: {self.caracteristica}\")\n",
        "\n",
        "\n",
        "personagem1 = Personagem(\"Sonic\", 5, 5)\n",
        "personagem1.exibir()\n",
        "\n",
        "guerreiro1 = Guerreiro(\"Mario\", 5, 2, \"Agilidade\")\n",
        "guerreiro1.exibir()\n",
        "\n",
        "mago1 = Mago(\"Tartaruga Ninja\", 10, 10, \"Rapidez\", \"Alto\")\n",
        "mago1.exibir()"
      ],
      "metadata": {
        "colab": {
          "base_uri": "https://localhost:8080/"
        },
        "id": "cGmXpkm6b07F",
        "outputId": "ca5c09dc-c323-453c-d6c7-a32043754155"
      },
      "execution_count": 46,
      "outputs": [
        {
          "output_type": "stream",
          "name": "stdout",
          "text": [
            "Meu nome Sonic, vida: 5 e forca: 5\n",
            "Meu nome Mario, vida: 5 , forca: 2 e habilidade: Agilidade\n",
            "Meu nome Tartaruga Ninja, vida: 10 , forca: 10 e habilidade: Rapidez, caracteristica: Alto\n"
          ]
        }
      ]
    },
    {
      "cell_type": "markdown",
      "source": [
        "Crie Professor e Pesquisador. Crie Cientista que herda ambos e usa trabalhar() com os dois comportamentos."
      ],
      "metadata": {
        "id": "ouyfZJD8fRUl"
      }
    },
    {
      "cell_type": "code",
      "source": [
        "class Professor:\n",
        "    def trabalhar(self):\n",
        "        print(\"O professor está dando aula.\")\n",
        "\n",
        "class Pesquisador:\n",
        "    def trabalhar(self):\n",
        "        print(\"O pesquisador está realizando uma pesquisa.\")\n",
        "\n",
        "class Cientista(Professor, Pesquisador):\n",
        "    def trabalhar(self):\n",
        "\n",
        "\n",
        "      Professor.trabalhar(self)\n",
        "      Pesquisador.trabalhar(self)\n",
        "\n",
        "cientista = Cientista()\n",
        "cientista.trabalhar()\n",
        "\n",
        "\n",
        "\n"
      ],
      "metadata": {
        "colab": {
          "base_uri": "https://localhost:8080/"
        },
        "id": "IIqVfee_fSCY",
        "outputId": "9ffd2052-5371-4a39-d642-a761a1e8c83d"
      },
      "execution_count": 53,
      "outputs": [
        {
          "output_type": "stream",
          "name": "stdout",
          "text": [
            "O professor está dando aula.\n",
            "O pesquisador está realizando uma pesquisa.\n"
          ]
        }
      ]
    },
    {
      "cell_type": "markdown",
      "source": [
        "ACIMA ESTA OS 10 EXCERCICIOS SOLICITADOS E ABAIXO ESTA OS EXERCICIOS DE EXEMPLOS DE SUBCLASSES"
      ],
      "metadata": {
        "id": "avhGUglSilqY"
      }
    },
    {
      "cell_type": "markdown",
      "source": [
        "Exemplo 2: Animais e Cachorros\n",
        "\n",
        "1- Crie uma classe base chamada Animal com um atributo nome e um método falar() que imprime “O animal faz um som”.\n",
        "2- Depois, crie uma subclasse Cachorro que herda de Animal e sobrescreve o método falar() para imprimir “{nome} está latindo”.\n",
        "3- Teste criando um objeto Cachorro e chamando o método falar()."
      ],
      "metadata": {
        "id": "cC3sqtpqjEBm"
      }
    },
    {
      "cell_type": "code",
      "source": [
        "class Animal:\n",
        "  def __init__(self, nome):\n",
        "    self.nome = nome\n",
        "\n",
        "  def falar(self):\n",
        "      print(f\"O animal {self.nome} faz um som\")\n",
        "\n",
        "class Cachorro(Animal):\n",
        "  def __init__(self, nome):\n",
        "     super().__init__(nome)\n",
        "\n",
        "  def falar(self):\n",
        "      print(f\"O {self.nome} está latindo\")\n",
        "\n",
        "cachorro1 = Cachorro(\"Thor\")\n",
        "cachorro1.falar()\n",
        "\n",
        "\n",
        "\n",
        ""
      ],
      "metadata": {
        "colab": {
          "base_uri": "https://localhost:8080/"
        },
        "id": "9dQ0bUXBjKVS",
        "outputId": "edc471c8-4af5-4e24-bc1f-e401069cc875"
      },
      "execution_count": 61,
      "outputs": [
        {
          "output_type": "stream",
          "name": "stdout",
          "text": [
            "O Thor está latindo\n"
          ]
        }
      ]
    },
    {
      "cell_type": "markdown",
      "source": [
        "Crie uma classe base Produto com os atributos nome e preco.\n",
        "Crie uma subclasse Livro que herda de Produto e adiciona os atributos autor e numero_paginas.\n",
        "Implemente um método detalhes() em Livro que imprime todas as informações do livro.\n",
        "Crie um objeto Livro e chame o método detalhes() para exibir os dados."
      ],
      "metadata": {
        "id": "fUxXd2Hcl32q"
      }
    },
    {
      "cell_type": "code",
      "source": [
        "class Produto:\n",
        "  def __init__(self, nome, preco):\n",
        "    self.nome = nome\n",
        "    self.preco = preco\n",
        "\n",
        "  def exibir(self):\n",
        "    print(f\"Nome: {self.nome}, Preço: {self.preco}\")\n",
        "\n",
        "\n",
        "class Livro(Produto):\n",
        "  def __init__(self, nome, preco, autor, numero_paginas):\n",
        "    super().__init__(nome, preco)\n",
        "    self.autor = autor\n",
        "    self.numero_paginas = numero_paginas\n",
        "\n",
        "  def detalhes(self):\n",
        "    print(f\"O nome do livro: {self.nome}, valor: {self.preco}, autor: {self.autor}, numero de páginas: {self.numero_paginas}\")\n",
        "\n",
        "\n",
        "\n",
        "livro1 = Livro(\"Perdida\", 59.90, \"Carina Rissi\", 200)\n",
        "livro1.detalhes()\n",
        "\n",
        ""
      ],
      "metadata": {
        "colab": {
          "base_uri": "https://localhost:8080/"
        },
        "id": "O6BjUxQjl43H",
        "outputId": "29888ebc-765a-41b0-8b43-9f1a5a867be3"
      },
      "execution_count": 63,
      "outputs": [
        {
          "output_type": "stream",
          "name": "stdout",
          "text": [
            "O nome do livro: Perdida, valor: 59.9, autor: Carina Rissi, numero de páginas: 200\n"
          ]
        }
      ]
    }
  ]
}