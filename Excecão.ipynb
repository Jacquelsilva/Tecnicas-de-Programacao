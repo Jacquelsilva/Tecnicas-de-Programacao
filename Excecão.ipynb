{
  "nbformat": 4,
  "nbformat_minor": 0,
  "metadata": {
    "colab": {
      "provenance": []
    },
    "kernelspec": {
      "name": "python3",
      "display_name": "Python 3"
    },
    "language_info": {
      "name": "python"
    }
  },
  "cells": [
    {
      "cell_type": "markdown",
      "source": [
        "Crie uma função que recebe dois números e tenta retornar a divisão entre eles. Capture erro de divisão por zero."
      ],
      "metadata": {
        "id": "OSfcBA6yo433"
      }
    },
    {
      "cell_type": "code",
      "source": [
        "def dividir(a, b):\n",
        "    try:\n",
        "        resultado = a / b\n",
        "        return f\"Resultado da divisão: {resultado}\"\n",
        "    except ZeroDivisionError:\n",
        "        return \"Erro: divisão por zero não é permitida.\"\n",
        "\n",
        "print(dividir(10, 2))\n",
        "print(dividir(5, 0))\n",
        "\n"
      ],
      "metadata": {
        "colab": {
          "base_uri": "https://localhost:8080/"
        },
        "id": "pZpLaR4eo6_V",
        "outputId": "eb84fba9-34ce-4d73-ff53-b78d04893a4e"
      },
      "execution_count": 2,
      "outputs": [
        {
          "output_type": "stream",
          "name": "stdout",
          "text": [
            "Resultado da divisão: 5.0\n",
            "Erro: divisão por zero não é permitida.\n"
          ]
        }
      ]
    },
    {
      "cell_type": "markdown",
      "source": [
        "Crie uma função para calcular a média de uma lista de números. Use try-except para capturar erro de tipo, e no bloco else, imprima a média. Obs: Utilizar o TypeError: acontece quando você usa tipos errados para uma operação."
      ],
      "metadata": {
        "id": "pj-DZuJwpmHs"
      }
    },
    {
      "cell_type": "code",
      "source": [
        "def calcular_media(lista):\n",
        "    try:\n",
        "        soma = sum(lista)\n",
        "        quantidade = len(lista)\n",
        "        media = soma / quantidade\n",
        "    except TypeError:\n",
        "        print(\"Erro: todos os itens da lista devem ser números.\")\n",
        "    else:\n",
        "        print(f\"A média é: {media}\")\n",
        "\n",
        "calcular_media([10, 20, 30])\n",
        "\n",
        "calcular_media([10, 'a', 30])\n",
        "\n"
      ],
      "metadata": {
        "colab": {
          "base_uri": "https://localhost:8080/"
        },
        "id": "t0mT4g29pnNx",
        "outputId": "d4045d8f-097b-42de-dcb4-7929b8631c48"
      },
      "execution_count": 3,
      "outputs": [
        {
          "output_type": "stream",
          "name": "stdout",
          "text": [
            "A média é: 20.0\n",
            "Erro: todos os itens da lista devem ser números.\n"
          ]
        }
      ]
    },
    {
      "cell_type": "markdown",
      "source": [
        "Crie uma função que solicita ao usuário digitar um número inteiro. Garanta o tratamento de erro para valores inválidos."
      ],
      "metadata": {
        "id": "MDG_ZQUKqKUV"
      }
    },
    {
      "cell_type": "code",
      "source": [
        "try:\n",
        "    numero = int(input(\"Digite um número: \"))\n",
        "except ValueError:\n",
        "    print(\"Erro: Você deve digitar um número INTEIRO.\")\n",
        "else:\n",
        "    print(f\"O Número inteiro é {numero}\")"
      ],
      "metadata": {
        "colab": {
          "base_uri": "https://localhost:8080/"
        },
        "id": "BuP2LzKxqU3z",
        "outputId": "4a42bfe6-7cf5-4507-bfbc-99e18dfdce3f"
      },
      "execution_count": 8,
      "outputs": [
        {
          "output_type": "stream",
          "name": "stdout",
          "text": [
            "Digite um número: 5,5\n",
            "Erro: Você deve digitar um número INTEIRO.\n"
          ]
        }
      ]
    },
    {
      "cell_type": "markdown",
      "source": [
        "Tarefa: Crie uma função que recebe a idade de uma pessoa. Se a idade for menor que 0, use raise para lançar uma exceção personalizada.\n",
        "\n"
      ],
      "metadata": {
        "id": "LDq_2b5prJrb"
      }
    },
    {
      "cell_type": "code",
      "source": [
        "def pedir_idade():\n",
        "    idade = int(input(\"Qual sua idade: \"))\n",
        "    if idade < 0:\n",
        "        raise ValueError(\"Idade não pode ser negativa.\")\n",
        "    else:\n",
        "        print(f\"Sua idade é: {idade}\")\n",
        "\n",
        "try:\n",
        "    pedir_idade()\n",
        "except ValueError as e:\n",
        "    print(f\"Erro: {e}\")\n"
      ],
      "metadata": {
        "colab": {
          "base_uri": "https://localhost:8080/"
        },
        "id": "d3i90sQjrNyh",
        "outputId": "f5ed2971-7fe2-42f8-bba2-8a53977d31a5"
      },
      "execution_count": 20,
      "outputs": [
        {
          "output_type": "stream",
          "name": "stdout",
          "text": [
            "Qual sua idade: -7\n",
            "Erro: Idade não pode ser negativa.\n"
          ]
        }
      ]
    },
    {
      "cell_type": "markdown",
      "source": [
        "Crie uma função que valida um CPF. Se tiver menos de 11 caracteres, lance uma exceção."
      ],
      "metadata": {
        "id": "sr_hdysHslEu"
      }
    },
    {
      "cell_type": "code",
      "source": [
        "def pedir_cpf():\n",
        "    cpf = input(\"Digite seu CPF sem espaços ou traços: \")\n",
        "\n",
        "    if len(cpf) != 11 or not cpf.isdigit():\n",
        "        raise ValueError(\"CPF inválido. Deve conter exatamente 11 números.\")\n",
        "    else:\n",
        "        print(f\"CPF informado: {cpf}\")\n",
        "\n",
        "try:\n",
        "    pedir_cpf()\n",
        "except ValueError as e:\n",
        "    print(f\"Erro: {e}\")\n",
        "\n"
      ],
      "metadata": {
        "colab": {
          "base_uri": "https://localhost:8080/"
        },
        "id": "_NY5MTotsmrg",
        "outputId": "255acf88-5463-4790-da98-75d6ba568e4c"
      },
      "execution_count": 24,
      "outputs": [
        {
          "output_type": "stream",
          "name": "stdout",
          "text": [
            "Digite seu CPF sem espaços ou traços: 3602923983033\n",
            "Erro: CPF inválido. Deve conter exatamente 11 números.\n"
          ]
        }
      ]
    },
    {
      "cell_type": "markdown",
      "source": [
        "Crie uma função para abrir e ler um arquivo de texto. Garanta que o arquivo seja fechado usando finally."
      ],
      "metadata": {
        "id": "mNC0l3hkuzUf"
      }
    },
    {
      "cell_type": "code",
      "source": [
        "try:\n",
        "  arquivo = open(\"leitura.txt\", \"r\")\n",
        "  conteudo = arquivo.read()\n",
        "  print(conteudo)\n",
        "\n",
        "except FileNotFoundError:\n",
        "  print(\"Erro: O arquivo não foi encontrado\")\n",
        "finally:\n",
        "  print(\"Operação finalizada\")"
      ],
      "metadata": {
        "colab": {
          "base_uri": "https://localhost:8080/"
        },
        "id": "GeDe8EZlu00w",
        "outputId": "5c055a40-b106-492a-88eb-1156ef714ce0"
      },
      "execution_count": 25,
      "outputs": [
        {
          "output_type": "stream",
          "name": "stdout",
          "text": [
            "Erro: O arquivo não foi encontrado\n",
            "Operação finalizada\n"
          ]
        }
      ]
    },
    {
      "cell_type": "markdown",
      "source": [
        " Crie uma classe Produto que receba nome e preço. Se o preço for negativo, levante uma exceção no método __init__."
      ],
      "metadata": {
        "id": "pYHYkqs1vn17"
      }
    },
    {
      "cell_type": "code",
      "source": [
        "class Produto:\n",
        "    def __init__(self, nome, preco):\n",
        "        if preco < 0:\n",
        "            raise ValueError(\"O preço não pode ser negativo.\")\n",
        "        self.nome = nome\n",
        "        self.preco = preco\n",
        "\n",
        "try:\n",
        "    produto1 = Produto(\"Camiseta\", 50.0)\n",
        "    print(f\"Produto criado: {produto1.nome}, R$ {produto1.preco}\")\n",
        "\n",
        "    produto2 = Produto(\"Sapato\", -20.0)\n",
        "    print(f\"Produto criado: {produto2.nome}, R$ {produto2.preco}\")\n",
        "except ValueError as erro:\n",
        "    print(f\"Erro ao criar produto: {erro}\")\n"
      ],
      "metadata": {
        "colab": {
          "base_uri": "https://localhost:8080/"
        },
        "id": "r2QfEAKwxi7e",
        "outputId": "df8c8579-855c-4e32-fd66-1d119acf9170"
      },
      "execution_count": 34,
      "outputs": [
        {
          "output_type": "stream",
          "name": "stdout",
          "text": [
            "Produto criado: Camiseta, R$ 50.0\n",
            "Erro ao criar produto: O preço não pode ser negativo.\n"
          ]
        }
      ]
    },
    {
      "cell_type": "markdown",
      "source": [
        "Crie uma classe Calculadora com método dividir(a, b). Lance erro se b for zero."
      ],
      "metadata": {
        "id": "zcsXl3RxyP_H"
      }
    },
    {
      "cell_type": "code",
      "source": [
        "class Calculadora:\n",
        "    def dividir(self, a, b):\n",
        "        if b == 0:\n",
        "            raise ZeroDivisionError(\"Não é possível dividir por zero.\")\n",
        "        return a / b\n",
        "\n",
        "\n",
        "calc = Calculadora()\n",
        "\n",
        "try:\n",
        "    resultado = calc.dividir(10, 2)\n",
        "    print(f\"Resultado: {resultado}\")\n",
        "\n",
        "    resultado = calc.dividir(10, 0)\n",
        "    print(f\"Resultado: {resultado}\")\n",
        "except ZeroDivisionError as erro:\n",
        "    print(f\"Erro: {erro}\")\n"
      ],
      "metadata": {
        "colab": {
          "base_uri": "https://localhost:8080/"
        },
        "id": "gtSpq86ryUMW",
        "outputId": "ac1b106c-e484-4a67-a12e-8cb9c1d659df"
      },
      "execution_count": 35,
      "outputs": [
        {
          "output_type": "stream",
          "name": "stdout",
          "text": [
            "Resultado: 5.0\n",
            "Erro: Não é possível dividir por zero.\n"
          ]
        }
      ]
    },
    {
      "cell_type": "markdown",
      "source": [
        "Crie uma classe Aluno com atributos nome e nota. Implemente um método para validar que nota seja um número entre 0 e 10."
      ],
      "metadata": {
        "id": "MbJfASJeysxD"
      }
    },
    {
      "cell_type": "code",
      "source": [
        "class Aluno:\n",
        "    def __init__(self, nome, nota):\n",
        "        self.nome = nome\n",
        "        self.set_nota(nota)\n",
        "\n",
        "    def set_nota(self, nota):\n",
        "        if not isinstance(nota, (int, float)):\n",
        "            raise TypeError(\"A nota deve ser um número.\")\n",
        "        if nota < 0 or nota > 10:\n",
        "            raise ValueError(\"A nota deve estar entre 0 e 10.\")\n",
        "        self.nota = nota\n",
        "\n",
        "# Testando a classe\n",
        "try:\n",
        "    aluno1 = Aluno(\"João\", 8.5)\n",
        "    print(f\"{aluno1.nome} tirou nota {aluno1.nota}\")\n",
        "\n",
        "    aluno2 = Aluno(\"Maria\", 12)\n",
        "except (TypeError, ValueError) as erro:\n",
        "    print(f\"Erro ao criar aluno: {erro}\")\n"
      ],
      "metadata": {
        "id": "NZYJX5SwyuLC"
      },
      "execution_count": null,
      "outputs": []
    },
    {
      "cell_type": "markdown",
      "source": [
        "Crie uma classe ContaBancaria que permita depósito e saque. Lance exceções para saques acima do saldo disponível.\n"
      ],
      "metadata": {
        "id": "ogARjQUey1Kn"
      }
    },
    {
      "cell_type": "code",
      "source": [
        "class ContaBancaria:\n",
        "    def __init__(self, titular, saldo_inicial=0.0):\n",
        "        self.titular = titular\n",
        "        self.saldo = saldo_inicial\n",
        "\n",
        "    def depositar(self, valor):\n",
        "        if valor <= 0:\n",
        "            raise ValueError(\"O valor do depósito deve ser positivo.\")\n",
        "        self.saldo += valor\n",
        "\n",
        "    def sacar(self, valor):\n",
        "        if valor <= 0:\n",
        "            raise ValueError(\"O valor do saque deve ser positivo.\")\n",
        "        if valor > self.saldo:\n",
        "            raise ValueError(\"Saldo insuficiente para realizar o saque.\")\n",
        "        self.saldo -= valor\n",
        "\n",
        "    def consultar_saldo(self):\n",
        "        return self.saldo\n",
        "\n",
        "\n",
        "try:\n",
        "    conta = ContaBancaria(\"Ana\", 100)\n",
        "    print(f\"Saldo inicial: R$ {conta.consultar_saldo():.2f}\")\n",
        "\n",
        "    conta.depositar(50)\n",
        "    print(f\"Após depósito: R$ {conta.consultar_saldo():.2f}\")\n",
        "\n",
        "    conta.sacar(30)\n",
        "    print(f\"Após saque: R$ {conta.consultar_saldo():.2f}\")\n",
        "\n",
        "    conta.sacar(200)\n",
        "except ValueError as erro:\n",
        "    print(f\"Erro: {erro}\")\n"
      ],
      "metadata": {
        "id": "MZLUa4M1y6vE"
      },
      "execution_count": null,
      "outputs": []
    },
    {
      "cell_type": "markdown",
      "source": [
        "Crie uma classe base Veiculo e uma classe derivada Carro. No construtor de Carro, valide que a quantidade de portas seja maior que zero."
      ],
      "metadata": {
        "id": "3prh9_PNzxzc"
      }
    },
    {
      "cell_type": "code",
      "source": [
        "class Veiculo:\n",
        "    def __init__(self, marca, modelo):\n",
        "        self.marca = marca\n",
        "        self.modelo = modelo\n",
        "\n",
        "class Carro(Veiculo):\n",
        "    def __init__(self, marca, modelo, portas):\n",
        "        super().__init__(marca, modelo)\n",
        "        if portas <= 0:\n",
        "            raise ValueError(\"O número de portas deve ser maior que zero.\")\n",
        "        self.portas = portas\n",
        "\n",
        "# Teste\n",
        "try:\n",
        "    carro1 = Carro(\"Honda\", \"Civic\", 4)\n",
        "    print(f\"{carro1.marca} {carro1.modelo} com {carro1.portas} portas.\")\n",
        "\n",
        "    carro2 = Carro(\"Chevrolet\", \"Onix\", 0)\n",
        "except ValueError as erro:\n",
        "    print(f\"Erro: {erro}\")\n"
      ],
      "metadata": {
        "id": "2TXl8M86z4Yr"
      },
      "execution_count": null,
      "outputs": []
    },
    {
      "cell_type": "markdown",
      "source": [
        "Crie uma classe Pessoa que recebe o nome e a idade como parâmetros. No método verificar_maioridade, use try-except para garantir que a idade seja um número inteiro."
      ],
      "metadata": {
        "id": "1GNvA3Y30AW6"
      }
    },
    {
      "cell_type": "code",
      "source": [
        "class Pessoa:\n",
        "    def __init__(self, nome, idade):\n",
        "        self.nome = nome\n",
        "        self.idade = idade\n",
        "\n",
        "    def verificar_maioridade(self):\n",
        "        try:\n",
        "            idade_int = int(self.idade)\n",
        "        except (ValueError, TypeError):\n",
        "            return \"Idade inválida. Deve ser um número inteiro.\"\n",
        "\n",
        "        if idade_int >= 18:\n",
        "            return f\"{self.nome} é maior de idade.\"\n",
        "        else:\n",
        "            return f\"{self.nome} é menor de idade.\"\n",
        "\n",
        "p1 = Pessoa(\"Ana\", 20)\n",
        "print(p1.verificar_maioridade())\n",
        "\n",
        "p2 = Pessoa(\"Carlos\", \"vinte\")\n",
        "print(p2.verificar_maioridade())\n",
        "\n",
        "p3 = Pessoa(\"Beatriz\", 15)\n",
        "print(p3.verificar_maioridade())\n"
      ],
      "metadata": {
        "colab": {
          "base_uri": "https://localhost:8080/"
        },
        "id": "lm73R98X0DhE",
        "outputId": "f2481906-f154-42f5-cd41-072c89d16d45"
      },
      "execution_count": 36,
      "outputs": [
        {
          "output_type": "stream",
          "name": "stdout",
          "text": [
            "Ana é maior de idade.\n",
            "Idade inválida. Deve ser um número inteiro.\n",
            "Beatriz é menor de idade.\n"
          ]
        }
      ]
    },
    {
      "cell_type": "markdown",
      "source": [
        "Crie uma exceção personalizada chamada ErroSaldoInsuficiente para ser usada na classe ContaBancaria."
      ],
      "metadata": {
        "id": "aGhXZu-O0K-L"
      }
    },
    {
      "cell_type": "code",
      "source": [
        "\n",
        "class ErroSaldoInsuficiente(Exception):\n",
        "    def __init__(self, mensagem=\"Saldo insuficiente para realizar o saque.\"):\n",
        "        super().__init__(mensagem)\n",
        "\n",
        "\n",
        "class ContaBancaria:\n",
        "    def __init__(self, titular, saldo_inicial=0.0):\n",
        "        self.titular = titular\n",
        "        self.saldo = saldo_inicial\n",
        "\n",
        "    def depositar(self, valor):\n",
        "        if valor <= 0:\n",
        "            raise ValueError(\"O valor do depósito deve ser positivo.\")\n",
        "        self.saldo += valor\n",
        "\n",
        "    def sacar(self, valor):\n",
        "        if valor <= 0:\n",
        "            raise ValueError(\"O valor do saque deve ser positivo.\")\n",
        "        if valor > self.saldo:\n",
        "            raise ErroSaldoInsuficiente()\n",
        "        self.saldo -= valor\n",
        "\n",
        "    def consultar_saldo(self):\n",
        "        return self.saldo\n",
        "\n",
        "try:\n",
        "    conta = ContaBancaria(\"João\", 100)\n",
        "    conta.sacar(150)\n",
        "except ErroSaldoInsuficiente as e:\n",
        "    print(f\"Erro: {e}\")\n"
      ],
      "metadata": {
        "colab": {
          "base_uri": "https://localhost:8080/"
        },
        "id": "MJY9Nk5O0Lfr",
        "outputId": "3ad09e41-676c-4e15-d813-f492ea9319dd"
      },
      "execution_count": 37,
      "outputs": [
        {
          "output_type": "stream",
          "name": "stdout",
          "text": [
            "Erro: Saldo insuficiente para realizar o saque.\n"
          ]
        }
      ]
    },
    {
      "cell_type": "markdown",
      "source": [
        "Crie uma função que pede dois números e realiza a divisão. Capture ValueError (entrada inválida) e ZeroDivisionError (divisão por zero). Utilize else e finally."
      ],
      "metadata": {
        "id": "QTOO04Z_0V2K"
      }
    },
    {
      "cell_type": "code",
      "source": [
        "def dividir_numeros():\n",
        "    try:\n",
        "        a = float(input(\"Digite o primeiro número: \"))\n",
        "        b = float(input(\"Digite o segundo número: \"))\n",
        "        resultado = a / b\n",
        "    except ValueError:\n",
        "        print(\"Entrada inválida! Por favor, digite números válidos.\")\n",
        "    except ZeroDivisionError:\n",
        "        print(\"Erro: Divisão por zero não é permitida.\")\n",
        "    else:\n",
        "        print(f\"Resultado da divisão: {resultado}\")\n",
        "    finally:\n",
        "        print(\"Operação finalizada.\")\n",
        "\n",
        "dividir_numeros()\n"
      ],
      "metadata": {
        "colab": {
          "base_uri": "https://localhost:8080/"
        },
        "id": "6WBM-Gg60Zba",
        "outputId": "8a7e6914-6909-4de5-d147-147297f408d3"
      },
      "execution_count": 38,
      "outputs": [
        {
          "output_type": "stream",
          "name": "stdout",
          "text": [
            "Digite o primeiro número: 5\n",
            "Digite o segundo número: 6\n",
            "Resultado da divisão: 0.8333333333333334\n",
            "Operação finalizada.\n"
          ]
        }
      ]
    },
    {
      "cell_type": "markdown",
      "source": [
        "Crie uma classe Loja com métodos adicionar_produto, remover_produto e listar_produtos. Lance exceções ao tentar remover um produto que não existe."
      ],
      "metadata": {
        "id": "BvThRBug0gWu"
      }
    },
    {
      "cell_type": "code",
      "source": [
        "class ProdutoNaoEncontrado(Exception):\n",
        "    pass\n",
        "\n",
        "class Loja:\n",
        "    def __init__(self):\n",
        "        self.produtos = []\n",
        "\n",
        "    def adicionar_produto(self, produto):\n",
        "        self.produtos.append(produto)\n",
        "        print(f\"Produto '{produto}' adicionado.\")\n",
        "\n",
        "    def remover_produto(self, produto):\n",
        "        if produto not in self.produtos:\n",
        "            raise ProdutoNaoEncontrado(f\"Produto '{produto}' não encontrado na loja.\")\n",
        "        self.produtos.remove(produto)\n",
        "        print(f\"Produto '{produto}' removido.\")\n",
        "\n",
        "    def listar_produtos(self):\n",
        "        if not self.produtos:\n",
        "            print(\"Nenhum produto na loja.\")\n",
        "        else:\n",
        "            print(\"Produtos na loja:\")\n",
        "            for p in self.produtos:\n",
        "                print(f\"- {p}\")\n",
        "\n",
        "loja = Loja()\n",
        "loja.adicionar_produto(\"Camiseta\")\n",
        "loja.adicionar_produto(\"Calça\")\n",
        "loja.listar_produtos()\n",
        "\n",
        "try:\n",
        "    loja.remover_produto(\"Boné\")\n",
        "except ProdutoNaoEncontrado as e:\n",
        "    print(f\"Erro: {e}\")\n",
        "\n",
        "loja.remover_produto(\"Camiseta\")\n",
        "loja.listar_produtos()\n"
      ],
      "metadata": {
        "colab": {
          "base_uri": "https://localhost:8080/"
        },
        "id": "HvZxOoIH0g8Q",
        "outputId": "9d7ec6d4-6770-4d17-830e-ca4c3abb3022"
      },
      "execution_count": 39,
      "outputs": [
        {
          "output_type": "stream",
          "name": "stdout",
          "text": [
            "Produto 'Camiseta' adicionado.\n",
            "Produto 'Calça' adicionado.\n",
            "Produtos na loja:\n",
            "- Camiseta\n",
            "- Calça\n",
            "Erro: Produto 'Boné' não encontrado na loja.\n",
            "Produto 'Camiseta' removido.\n",
            "Produtos na loja:\n",
            "- Calça\n"
          ]
        }
      ]
    }
  ]
}