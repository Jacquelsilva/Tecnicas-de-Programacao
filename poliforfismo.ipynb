{
  "nbformat": 4,
  "nbformat_minor": 0,
  "metadata": {
    "colab": {
      "provenance": []
    },
    "kernelspec": {
      "name": "python3",
      "display_name": "Python 3"
    },
    "language_info": {
      "name": "python"
    }
  },
  "cells": [
    {
      "cell_type": "markdown",
      "source": [
        "Crie duas classes, Carro e Moto, que tenham um método acelerar(). Cada classe deve exibir uma mensagem diferente.\n"
      ],
      "metadata": {
        "id": "cxL5Tws6ijY4"
      }
    },
    {
      "cell_type": "code",
      "source": [
        "class Carro:\n",
        "  def acelerar(self):\n",
        "    print(\"ramchu\")\n",
        "\n",
        "class Moto:\n",
        "  def acelerar(self):\n",
        "    print(\"randam\")\n",
        "\n",
        "veiculos = [Carro(), Moto()]\n",
        "\n",
        "for veiculos in veiculos:\n",
        "  veiculos.acelerar()"
      ],
      "metadata": {
        "colab": {
          "base_uri": "https://localhost:8080/"
        },
        "id": "ARAWfyAUinl-",
        "outputId": "370a68e3-4f33-472d-ac42-02dd13236e40"
      },
      "execution_count": null,
      "outputs": [
        {
          "output_type": "stream",
          "name": "stdout",
          "text": [
            "ramchu\n",
            "randam\n"
          ]
        }
      ]
    },
    {
      "cell_type": "markdown",
      "source": [
        "Crie uma superclasse Funcionario com um método calcular_salario(). Crie duas subclasses: FuncionarioCLT e FuncionarioPJ. Cada uma calcula o salário de forma diferente.\n"
      ],
      "metadata": {
        "id": "Q3Sg3Z3ckQaP"
      }
    },
    {
      "cell_type": "code",
      "source": [
        "from abc import ABC, abstractmethod\n",
        "\n",
        "\n",
        "class Funcionario(ABC):\n",
        "    @abstractmethod\n",
        "    def calcular_salario(self):\n",
        "        pass\n",
        "\n",
        "class FuncionarioCLT(Funcionario):\n",
        "    def __init__(self, salario_base, beneficios):\n",
        "        self.salario_base = salario_base\n",
        "        self.beneficios = beneficios\n",
        "\n",
        "    def calcular_salario(self):\n",
        "        return self.salario_base + self.beneficios\n",
        "\n",
        "class FuncionarioPj(Funcionario):\n",
        "    def __init__(self, horas_trabalhadas, valor_hora):\n",
        "        self.horas_trabalhadas = horas_trabalhadas\n",
        "        self.valor_hora = valor_hora\n",
        "\n",
        "    def calcular_salario(self):\n",
        "        return self.horas_trabalhadas * self.valor_hora\n",
        "\n",
        "\n",
        "funcionarios = [\n",
        "    FuncionarioCLT(salario_base=3000, beneficios=500),\n",
        "    FuncionarioPj(horas_trabalhadas=160, valor_hora=20)\n",
        "]\n",
        "\n",
        "# Exibindo os salários\n",
        "for funcionario in funcionarios:\n",
        "    print(f\"Salário: R$ {funcionario.calcular_salario():.2f}\")\n"
      ],
      "metadata": {
        "colab": {
          "base_uri": "https://localhost:8080/"
        },
        "id": "bN2PikNUkSdM",
        "outputId": "6ae25c5e-7bc2-43b8-e8cb-aa595a53e7dc"
      },
      "execution_count": null,
      "outputs": [
        {
          "output_type": "stream",
          "name": "stdout",
          "text": [
            "Salário: R$ 3500.00\n",
            "Salário: R$ 3200.00\n"
          ]
        }
      ]
    },
    {
      "cell_type": "markdown",
      "source": [
        "# Nova seção"
      ],
      "metadata": {
        "id": "MHX7pcHe3cHv"
      }
    },
    {
      "cell_type": "markdown",
      "source": [
        "Modele um sistema de envio de mensagens com as classes Email, SMS e Whatsapp. Todas devem ter o método enviar_mensagem()"
      ],
      "metadata": {
        "id": "DIZrtdQbmuzq"
      }
    },
    {
      "cell_type": "code",
      "source": [
        "class Email:\n",
        "  def enviar_mensagem(self):\n",
        "    print('Mensagem enviada')\n",
        "\n",
        "class SMS:\n",
        "  def enviar_mensagem(self):\n",
        "    print('Mensagem enviada')\n",
        "\n",
        "class Whatsapp:\n",
        "  def enviar_mensagem(self):\n",
        "    print('Mensagem enviada')\n",
        "\n",
        "Mensagens = [Email(), SMS(), Whatsapp()]\n",
        "\n",
        "for Mensagens in Mensagens:\n",
        "  Mensagens.enviar_mensagem()\n",
        "\n"
      ],
      "metadata": {
        "colab": {
          "base_uri": "https://localhost:8080/"
        },
        "id": "aapolHjbmv9y",
        "outputId": "a5a230d3-bec2-497d-8b28-daddcdc29a85"
      },
      "execution_count": null,
      "outputs": [
        {
          "output_type": "stream",
          "name": "stdout",
          "text": [
            "Mensagem enviada\n",
            "Mensagem enviada\n",
            "Mensagem enviada\n"
          ]
        }
      ]
    },
    {
      "cell_type": "markdown",
      "source": [
        "Crie um sistema de animais com as classes Passaro e Peixe, ambas com o método movimentar()"
      ],
      "metadata": {
        "id": "nuWZcvZ4oTWW"
      }
    },
    {
      "cell_type": "code",
      "source": [
        "class animais:\n",
        "  def movimentar(self):\n",
        "    print(\"movimento\")\n",
        "\n",
        "class Passaro:\n",
        "  def movimentar(self):\n",
        "    print(\"Ele voa\")\n",
        "\n",
        "class Peixe:\n",
        "  def movimentar(self):\n",
        "    print(\"Ele nada\")\n",
        "\n",
        "animal = [Passaro(), Peixe()]\n",
        "\n",
        "for animais in animal:\n",
        "  animais.movimentar()"
      ],
      "metadata": {
        "colab": {
          "base_uri": "https://localhost:8080/"
        },
        "id": "_uzDwEn_oT9d",
        "outputId": "d1463afb-c242-43f4-e74c-7c917317d503"
      },
      "execution_count": null,
      "outputs": [
        {
          "output_type": "stream",
          "name": "stdout",
          "text": [
            "Ele voa\n",
            "Ele nada\n"
          ]
        }
      ]
    },
    {
      "cell_type": "markdown",
      "source": [
        "Crie uma superclasse FormaGeometrica com um método calcular_area(). Crie subclasses Quadrado e Circulo."
      ],
      "metadata": {
        "id": "r7H-qi-epVUT"
      }
    },
    {
      "cell_type": "code",
      "source": [
        "import math\n",
        "\n",
        "class FormaGeometrica:\n",
        "    def calcular_area(self):\n",
        "        print(\"A área\")\n",
        "\n",
        "class Quadrado(FormaGeometrica):\n",
        "    def __init__(self, lado):\n",
        "        self.lado = lado\n",
        "\n",
        "    def calcular_area(self):\n",
        "        return self.lado ** 2\n",
        "\n",
        "class Circulo(FormaGeometrica):\n",
        "    def __init__(self, raio):\n",
        "        self.raio = raio\n",
        "\n",
        "    def calcular_area(self):\n",
        "        return math.pi * (self.raio ** 2)\n",
        "\n",
        "\n",
        "formas = [Quadrado(4), Circulo(3)]\n",
        "\n",
        "\n",
        "for forma in formas:\n",
        "    print(f\"Área: {forma.calcular_area():.2f}\")\n",
        "\n",
        "\n",
        "\n"
      ],
      "metadata": {
        "colab": {
          "base_uri": "https://localhost:8080/"
        },
        "id": "ahF7uY-JpWPl",
        "outputId": "60fdf65e-a28c-4543-f15a-de7259acc744"
      },
      "execution_count": null,
      "outputs": [
        {
          "output_type": "stream",
          "name": "stdout",
          "text": [
            "Área: 16.00\n",
            "Área: 28.27\n"
          ]
        }
      ]
    },
    {
      "cell_type": "markdown",
      "source": [
        "Modele um sistema de transporte com as classes Onibus, Bicicleta e Carro, cada uma com o método custo_viagem(distancia)."
      ],
      "metadata": {
        "id": "W1On7ZAyrTIU"
      }
    },
    {
      "cell_type": "code",
      "source": [
        "\n",
        "\n",
        "class Onibus:\n",
        "  def custo_viagem (self):\n",
        "    print(\"O custo do Onibus: 4,00 \")\n",
        "\n",
        "class Bicicleta:\n",
        "  def custo_viagem (self):\n",
        "    print(\"O custo da Bicicleta: 0,00 \")\n",
        "\n",
        "class Carro:\n",
        "  def custo_viagem (self):\n",
        "    print(\"O custo do Carro: 6,50 \")\n",
        "\n",
        "\n",
        "transporte = [Onibus(), Bicicleta(), Carro()]\n",
        "\n",
        "for transporte in transporte:\n",
        "  transporte.custo_viagem()\n",
        "\n",
        "\n",
        "\n"
      ],
      "metadata": {
        "colab": {
          "base_uri": "https://localhost:8080/"
        },
        "id": "C3lA57XOrUaY",
        "outputId": "9d883c97-ece8-458f-c3af-fd8d0175f148"
      },
      "execution_count": null,
      "outputs": [
        {
          "output_type": "stream",
          "name": "stdout",
          "text": [
            "O custo do Onibus: 4,00 \n",
            "O custo da Bicicleta: 0,00 \n",
            "O custo do Carro: 6,50 \n"
          ]
        }
      ]
    },
    {
      "cell_type": "markdown",
      "source": [
        " Crie uma classe Arquivo com um método abrir(). Crie subclasses ArquivoTexto, ArquivoImagem e ArquivoVideo."
      ],
      "metadata": {
        "id": "5jXQcPbrtGD7"
      }
    },
    {
      "cell_type": "code",
      "source": [
        "class Arquivo:\n",
        "  def abrir(self):\n",
        "    print(\"Arquivo aberto\")\n",
        "\n",
        "class ArquivoTexto:\n",
        "  def abrir(self):\n",
        "    print(\"O arquivo texto foi aberto\")\n",
        "\n",
        "class ArquivoVideo:\n",
        "  def abrir(self):\n",
        "    print(\"O arquivo video foi aberto\")\n",
        "\n",
        "Arquivos = [ArquivoTexto(), ArquivoVideo()]\n",
        "\n",
        "for Arquivo in Arquivos:\n",
        "  Arquivo.abrir()"
      ],
      "metadata": {
        "colab": {
          "base_uri": "https://localhost:8080/"
        },
        "id": "Wjtmc6kOtGmY",
        "outputId": "b5aa6251-5c65-4e2b-d40e-a30caaf2377f"
      },
      "execution_count": null,
      "outputs": [
        {
          "output_type": "stream",
          "name": "stdout",
          "text": [
            "O arquivo texto foi aberto\n",
            "O arquivo video foi aberto\n"
          ]
        }
      ]
    },
    {
      "cell_type": "markdown",
      "source": [
        "Crie um sistema de streaming com as classes Filme e Musica, ambas com o método reproduzir()."
      ],
      "metadata": {
        "id": "2Z65VWITudls"
      }
    },
    {
      "cell_type": "code",
      "source": [
        "class Filme:\n",
        "  def reproduzir(self):\n",
        "    print(\"Reproduzindo filme\")\n",
        "\n",
        "class Musica:\n",
        "  def reproduzir(self):\n",
        "    print(\"Reproduzindo musica\")\n",
        "\n",
        "streaming = [Filme() , Musica()]\n",
        "\n",
        "for streaming in streaming:\n",
        "  streaming.reproduzir()"
      ],
      "metadata": {
        "colab": {
          "base_uri": "https://localhost:8080/"
        },
        "id": "-zDEShwHufp3",
        "outputId": "a34148a7-099c-42b0-83d6-f4082240277f"
      },
      "execution_count": null,
      "outputs": [
        {
          "output_type": "stream",
          "name": "stdout",
          "text": [
            "Reproduzindo filme\n",
            "Reproduzindo musica\n"
          ]
        }
      ]
    },
    {
      "cell_type": "markdown",
      "source": [
        "Modele um sistema de notificações com as classes NotificacaoEmail, NotificacaoSMS e NotificacaoPush"
      ],
      "metadata": {
        "id": "Adin7wtovSAS"
      }
    },
    {
      "cell_type": "code",
      "source": [
        "class Notificacoes:\n",
        "  def notificacao(self):\n",
        "    print(\"Notificação enviada\")\n",
        "\n",
        "class NotificacaoSMS:\n",
        "  def notificacao(self):\n",
        "    print(\"Notificação SMS enviada\")\n",
        "\n",
        "class NotificacaoPush:\n",
        "  def notificacao(self):\n",
        "    print(\"Notificação Push enviada\")\n",
        "\n",
        "class NotificacaoEmail:\n",
        "  def notificacao(self):\n",
        "    print(\"Notificação Email enviada\")\n",
        "\n",
        "notifica = [ NotificacaoEmail(), NotificacaoPush(), NotificacaoSMS()]\n",
        "\n",
        "for Notificacoes in notifica:\n",
        "  Notificacoes.notificacao()"
      ],
      "metadata": {
        "colab": {
          "base_uri": "https://localhost:8080/"
        },
        "id": "f5HhS576vSmf",
        "outputId": "ae803705-ab97-4ade-da68-db5676ed7c04"
      },
      "execution_count": null,
      "outputs": [
        {
          "output_type": "stream",
          "name": "stdout",
          "text": [
            "Notificação Email enviada\n",
            "Notificação Push enviada\n",
            "Notificação SMS enviada\n"
          ]
        }
      ]
    },
    {
      "cell_type": "markdown",
      "source": [
        "Crie uma superclasse Pagamento e as subclasses PagamentoCartao, PagamentoPix e PagamentoBoleto. Utilize uma lista para simular o processamento de diferentes pagamentos."
      ],
      "metadata": {
        "id": "ppWNSjF50CFc"
      }
    },
    {
      "cell_type": "code",
      "source": [
        "class Pagamento:\n",
        "  def pagamentos(self):\n",
        "    print(\"Pagamento realizado\")\n",
        "\n",
        "class PagamentoCartao:\n",
        "  def pagamentos(self):\n",
        "    print(\"Pagamento no Cartão realizado\")\n",
        "\n",
        "class PagamentoPix:\n",
        "  def pagamentos(self):\n",
        "    print(\"Pagamento no Pix realizado\")\n",
        "\n",
        "class PagamentoBoleto:\n",
        "  def pagamentos(self):\n",
        "    print(\"Pagamento no Boleto realizado\")\n",
        "\n",
        "\n",
        "formas = [PagamentoCartao(), PagamentoBoleto(), PagamentoPix()]\n",
        "\n",
        "for Pagamento in formas:\n",
        "  Pagamento.pagamentos()"
      ],
      "metadata": {
        "colab": {
          "base_uri": "https://localhost:8080/"
        },
        "id": "Z0ztGt1j0Cuk",
        "outputId": "a558ab61-f679-4c7c-997a-7fb2768efaa0"
      },
      "execution_count": null,
      "outputs": [
        {
          "output_type": "stream",
          "name": "stdout",
          "text": [
            "Pagamento no Cartão realizado\n",
            "Pagamento no Boleto realizado\n",
            "Pagamento no Pix realizado\n"
          ]
        }
      ]
    }
  ]
}