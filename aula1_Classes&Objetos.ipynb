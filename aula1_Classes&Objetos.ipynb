{
  "nbformat": 4,
  "nbformat_minor": 0,
  "metadata": {
    "colab": {
      "provenance": []
    },
    "kernelspec": {
      "name": "python3",
      "display_name": "Python 3"
    },
    "language_info": {
      "name": "python"
    }
  },
  "cells": [
    {
      "cell_type": "markdown",
      "source": [
        "Crie uma classe chamada Pessoa sem atributos ou métodos. Em seguida, crie uma instância dessa classe e exiba seu tipo."
      ],
      "metadata": {
        "id": "TrnuC1AlyYVE"
      }
    },
    {
      "cell_type": "code",
      "source": [
        "class pessoa:\n",
        "  def __init__(self, nome, idade):\n",
        "    self.nome= nome\n",
        "    self.idade= idade\n",
        "\n",
        "def exibir_inf(self):\n",
        "  print(f\"Pessoa:{self.nome}, idade:{self.idade}\")\n",
        "\n",
        "\n"
      ],
      "metadata": {
        "id": "IRxwwCCUzoVH"
      },
      "execution_count": null,
      "outputs": []
    },
    {
      "cell_type": "code",
      "source": [
        "class Pessoa:\n",
        "    pass  # Nenhum atributo ou método\n",
        "\n",
        "# Criar uma instância da classe\n",
        "p = Pessoa()\n",
        "\n",
        "# Exibir o tipo da instância\n",
        "print(type(p))\n"
      ],
      "metadata": {
        "id": "c_6JfGZz09Zj"
      },
      "execution_count": null,
      "outputs": []
    },
    {
      "cell_type": "markdown",
      "source": [
        " Crie uma classe Carro com os atributos modelo e ano. Use o construtor __init__ para inicializar esses atributos e crie uma instância de Carro."
      ],
      "metadata": {
        "id": "iHx4qtZU1E61"
      }
    },
    {
      "cell_type": "code",
      "source": [
        "class Carro:\n",
        "  def __init__(self, modelo, ano):\n",
        "    self.modelo = modelo\n",
        "    self.ano = ano\n",
        "\n",
        "carro1 = Carro(\"Civic\", 2019)\n",
        "\n",
        "\n",
        "\n",
        "print(f\"Carro:{carro1.modelo}, Ano:{carro1.ano}\")"
      ],
      "metadata": {
        "id": "8h-MglsR1GA1"
      },
      "execution_count": null,
      "outputs": []
    },
    {
      "cell_type": "markdown",
      "source": [
        "Crie uma classe Produto com os atributos nome e preco. Crie uma instância de Produto e modifique o atributo preco."
      ],
      "metadata": {
        "id": "RWQOAvsI3EAp"
      }
    },
    {
      "cell_type": "code",
      "source": [
        "class Produto:\n",
        "  def __init__(self, nome, preco):\n",
        "    self.nome = nome\n",
        "    self.preco = preco\n",
        "\n",
        "\n",
        "produto1 = Produto(\"Cesta\", 20)\n",
        "\n",
        "produto1.preco = 30\n",
        "\n",
        "print(f\"Produto:{produto1.nome}, preco:{produto1.preco}\")\n"
      ],
      "metadata": {
        "colab": {
          "base_uri": "https://localhost:8080/"
        },
        "id": "6_TAqKuc3GKW",
        "outputId": "e2915e84-97c1-4907-d7db-eced93c6bff6"
      },
      "execution_count": null,
      "outputs": [
        {
          "output_type": "stream",
          "name": "stdout",
          "text": [
            "Produto:Cesta, preco:30\n"
          ]
        }
      ]
    },
    {
      "cell_type": "markdown",
      "source": [
        " Crie uma classe Animal com um atributo de classe categoria. Modifique esse atributo na classe e observe como ele afeta todas as instâncias."
      ],
      "metadata": {
        "id": "Ppc3zF8XDOfa"
      }
    },
    {
      "cell_type": "code",
      "source": [
        "class Animal:\n",
        "    categoria = \"Vertebrado\"\n",
        "\n",
        "    def __init__(self, nome):\n",
        "        self.nome = nome\n",
        "\n",
        "# Criando duas instâncias\n",
        "animal1 = Animal(\"Cachorro\")\n",
        "animal2 = Animal(\"Gato\")\n",
        "\n",
        "# Exibindo a categoria antes da alteração\n",
        "print(f\"{animal1.nome} é da categoria: {animal1.categoria}\")\n",
        "print(f\"{animal2.nome} é da categoria: {animal2.categoria}\")\n",
        "\n",
        "# Modificando o atributo de classe\n",
        "Animal.categoria = \"Invertebrado\"\n",
        "\n",
        "# Observando o efeito em todas as instâncias\n",
        "print(f\"{animal1.nome} é da categoria: {animal1.categoria}\")\n",
        "print(f\"{animal2.nome} é da categoria: {animal2.categoria}\")\n",
        "\n"
      ],
      "metadata": {
        "id": "dI8MzXZuCy1B"
      },
      "execution_count": null,
      "outputs": []
    },
    {
      "cell_type": "markdown",
      "source": [
        "Crie uma classe Pessoa com os atributos nome e idade. Adicione um método de instância apresentar() que retorna uma string com o nome e a idade da pessoa."
      ],
      "metadata": {
        "id": "Njw20jCFD5TS"
      }
    },
    {
      "cell_type": "code",
      "source": [
        "class Pessoa:\n",
        "  def __init__(self, nome, idade):\n",
        "    self.nome = nome\n",
        "    self.idade = idade\n",
        "\n",
        "  def apresentar(self):\n",
        "    return f\"Nome:{self.nome}, idade:{self.idade}\"\n",
        "\n",
        "pessoa1 = Pessoa(\"Joao paulo\", 14)\n",
        "\n",
        "print(pessoa1.apresentar())\n"
      ],
      "metadata": {
        "colab": {
          "base_uri": "https://localhost:8080/"
        },
        "id": "uCEZVnD_D6V3",
        "outputId": "a399e208-18cc-4d87-e0b9-4ae73cec56c1"
      },
      "execution_count": null,
      "outputs": [
        {
          "output_type": "stream",
          "name": "stdout",
          "text": [
            "Nome:Joao paulo, idade:14\n"
          ]
        }
      ]
    },
    {
      "cell_type": "markdown",
      "source": [
        "Crie uma classe ContaBancaria com os atributos titular e saldo. Adicione um método de instância depositar(valor) que aumenta o saldo da conta."
      ],
      "metadata": {
        "id": "tvpyK3VVFvFZ"
      }
    },
    {
      "cell_type": "code",
      "source": [
        "  class ContaBancaria:\n",
        "    def __init__(self, titular, saldo=0):\n",
        "        self.titular = titular\n",
        "        self.saldo = saldo\n",
        "\n",
        "    def depositar(self, valor):\n",
        "        if valor > 0:\n",
        "            self.saldo += valor\n",
        "            print(f'Depósito de R${valor:.2f} realizado com sucesso.')\n",
        "        else:\n",
        "            print('O valor do depósito deve ser positivo.')\n",
        "\n",
        "    def __str__(self):\n",
        "        return f'Titular: {self.titular} | Saldo: R${self.saldo:.2f}'\n",
        "\n",
        "conta = ContaBancaria(\"Maria\", 100)\n",
        "print(conta)\n",
        "\n",
        "conta.depositar(50)\n",
        "print(conta)\n",
        "\n",
        "\n"
      ],
      "metadata": {
        "id": "kqfngrqWFy6D",
        "colab": {
          "base_uri": "https://localhost:8080/"
        },
        "outputId": "ed4633fa-c495-49b9-f4d6-0aaa2f0e5835"
      },
      "execution_count": 4,
      "outputs": [
        {
          "output_type": "stream",
          "name": "stdout",
          "text": [
            "Titular: Maria | Saldo: R$100.00\n",
            "Depósito de R$50.00 realizado com sucesso.\n",
            "Titular: Maria | Saldo: R$150.00\n"
          ]
        }
      ]
    },
    {
      "cell_type": "markdown",
      "source": [
        "Crie uma classe Aluno com os atributos nome e nota. Adicione um método de instância situacao() que retorna \"Aprovado\" se a nota for maior ou igual a 6 e \"Reprovado\" caso contrário.\n"
      ],
      "metadata": {
        "id": "aVK-KyusWkzc"
      }
    },
    {
      "cell_type": "code",
      "source": [
        "class Aluno:\n",
        "    def __init__(self, nome, nota):\n",
        "        self.nome = nome\n",
        "        self.nota = nota\n",
        "\n",
        "    def situacao(self):\n",
        "        if self.nota >= 6:\n",
        "            return \"Aprovado\"\n",
        "        else:\n",
        "            return \"Reprovado\"\n",
        "\n",
        "    def __str__(self):\n",
        "        return f\"Aluno: {self.nome} | Nota: {self.nota:.1f} | Situação: {self.situacao()}\"\n",
        "\n",
        "\n",
        "aluno1 = Aluno(\"Ana\", 6)\n",
        "aluno2 = Aluno(\"Pedro\", 4)\n",
        "\n",
        "\n",
        "print(aluno1)\n",
        "print(aluno2)\n",
        "\n",
        "\n",
        "\n",
        "\n"
      ],
      "metadata": {
        "colab": {
          "base_uri": "https://localhost:8080/"
        },
        "id": "x55sGfvxWl_9",
        "outputId": "90a8f628-911c-4d6c-873d-c5859c633dd4"
      },
      "execution_count": 9,
      "outputs": [
        {
          "output_type": "stream",
          "name": "stdout",
          "text": [
            "Aluno: Ana | Nota: 6.0 | Situação: Aprovado\n",
            "Aluno: Pedro | Nota: 4.0 | Situação: Reprovado\n"
          ]
        }
      ]
    },
    {
      "cell_type": "markdown",
      "source": [
        "Crie uma classe Funcionario com o atributo de classe bonus. Adicione um método de classe modificar_bonus(valor) que altera o valor do bônus."
      ],
      "metadata": {
        "id": "z3ND5I3EYvCL"
      }
    },
    {
      "cell_type": "code",
      "source": [
        "class Funcionario:\n",
        "    bonus = 1000\n",
        "\n",
        "    def __init__(self, nome, salario):\n",
        "        self.nome = nome\n",
        "        self.salario = salario\n",
        "\n",
        "    @classmethod\n",
        "    def modificar_bonus(cls, valor):\n",
        "        cls.bonus = valor\n",
        "\n",
        "    def salario_total(self):\n",
        "        return self.salario + Funcionario.bonus\n",
        "\n",
        "    def __str__(self):\n",
        "        return f\"Funcionário: {self.nome} | Salário Base: R${self.salario:.2f} | Bônus: R${Funcionario.bonus:.2f} | Salário Total: R${self.salario_total():.2f}\"\n",
        "\n",
        "f1 = Funcionario(\"João\", 3000)\n",
        "f2 = Funcionario(\"Maria\", 4000)\n",
        "\n",
        "print(f1)\n",
        "print(f2)\n",
        "\n",
        "\n",
        "Funcionario.modificar_bonus(1500)\n",
        "\n",
        "print(f1)\n",
        "print(f2)\n",
        "\n",
        ""
      ],
      "metadata": {
        "colab": {
          "base_uri": "https://localhost:8080/"
        },
        "id": "mWXY_OvMYvpt",
        "outputId": "a1622b1e-aa9b-4adf-da17-e023db2478cb"
      },
      "execution_count": 10,
      "outputs": [
        {
          "output_type": "stream",
          "name": "stdout",
          "text": [
            "Funcionário: João | Salário Base: R$3000.00 | Bônus: R$1000.00 | Salário Total: R$4000.00\n",
            "Funcionário: Maria | Salário Base: R$4000.00 | Bônus: R$1000.00 | Salário Total: R$5000.00\n",
            "Funcionário: João | Salário Base: R$3000.00 | Bônus: R$1500.00 | Salário Total: R$4500.00\n",
            "Funcionário: Maria | Salário Base: R$4000.00 | Bônus: R$1500.00 | Salário Total: R$5500.00\n"
          ]
        }
      ]
    },
    {
      "cell_type": "markdown",
      "source": [
        "Crie uma classe Loja com o atributo de classe desconto. Adicione um método de classe aplicar_desconto() que modifica o valor do desconto para todas as instâncias."
      ],
      "metadata": {
        "id": "nxtnfinnZMrb"
      }
    },
    {
      "cell_type": "code",
      "source": [
        "class Loja:\n",
        "    desconto = 0.0\n",
        "\n",
        "    def __init__(self, nome, preco):\n",
        "        self.nome = nome\n",
        "        self.preco = preco\n",
        "\n",
        "    @classmethod\n",
        "    def aplicar_desconto(cls, novo_desconto):\n",
        "        cls.desconto = novo_desconto\n",
        "\n",
        "    def preco_com_desconto(self):\n",
        "        return self.preco * (1 - Loja.desconto)\n",
        "\n",
        "    def __str__(self):\n",
        "        return f\"Produto: {self.nome} | Preço Original: R${self.preco:.2f} | Desconto: {Loja.desconto*100:.0f}% | Preço com Desconto: R${self.preco_com_desconto():.2f}\"\n",
        "\n",
        "p1 = Loja(\"Camiseta\", 100)\n",
        "p2 = Loja(\"Calça\", 150)\n",
        "\n",
        "print(p1)\n",
        "print(p2)\n",
        "\n",
        "\n",
        "Loja.aplicar_desconto(0.2)\n",
        "\n",
        "print(p1)\n",
        "print(p2)\n",
        "\n"
      ],
      "metadata": {
        "colab": {
          "base_uri": "https://localhost:8080/"
        },
        "id": "Ux3qyl1UZNmX",
        "outputId": "9cc30729-455e-4b41-9fbd-7e4aca859698"
      },
      "execution_count": 11,
      "outputs": [
        {
          "output_type": "stream",
          "name": "stdout",
          "text": [
            "Produto: Camiseta | Preço Original: R$100.00 | Desconto: 0% | Preço com Desconto: R$100.00\n",
            "Produto: Calça | Preço Original: R$150.00 | Desconto: 0% | Preço com Desconto: R$150.00\n",
            "Produto: Camiseta | Preço Original: R$100.00 | Desconto: 20% | Preço com Desconto: R$80.00\n",
            "Produto: Calça | Preço Original: R$150.00 | Desconto: 20% | Preço com Desconto: R$120.00\n"
          ]
        }
      ]
    },
    {
      "cell_type": "markdown",
      "source": [
        "Crie uma classe Pessoa com o método de classe criar_pessoa(nome, idade) que cria e retorna uma instância de Pessoa."
      ],
      "metadata": {
        "id": "tIc9jZ-ZZpCz"
      }
    },
    {
      "cell_type": "code",
      "source": [
        "class Pessoa:\n",
        "    def __init__(self, nome, idade):\n",
        "        self.nome = nome\n",
        "        self.idade = idade\n",
        "\n",
        "    @classmethod\n",
        "    def criar_pessoa(cls, nome, idade):\n",
        "        return cls(nome, idade)\n",
        "\n",
        "    def __str__(self):\n",
        "        return f\"Nome: {self.nome} | Idade: {self.idade}\"\n",
        "\n",
        "p1 = Pessoa.criar_pessoa(\"Lucas\", 30)\n",
        "p2 = Pessoa.criar_pessoa(\"Julia\", 25)\n",
        "\n",
        "print(p1)\n",
        "print(p2)\n",
        "\n"
      ],
      "metadata": {
        "colab": {
          "base_uri": "https://localhost:8080/"
        },
        "id": "G_cRhH7EZprg",
        "outputId": "502cc28a-5060-4b09-c566-0737e5ec3b2c"
      },
      "execution_count": 12,
      "outputs": [
        {
          "output_type": "stream",
          "name": "stdout",
          "text": [
            "Nome: Lucas | Idade: 30\n",
            "Nome: Julia | Idade: 25\n"
          ]
        }
      ]
    },
    {
      "cell_type": "markdown",
      "source": [
        "Crie uma classe Calculadora com um método estático somar(a, b) que retorna a soma de dois números."
      ],
      "metadata": {
        "id": "vU-3cYoOaLaB"
      }
    },
    {
      "cell_type": "code",
      "source": [
        "class Calculadora:\n",
        "    @staticmethod\n",
        "    def somar(a, b):\n",
        "        return a + b\n",
        "\n",
        "resultado = Calculadora.somar(10, 5)\n",
        "print(f\"Resultado da soma: {resultado}\")\n"
      ],
      "metadata": {
        "colab": {
          "base_uri": "https://localhost:8080/"
        },
        "id": "WbtPAjbjaMFk",
        "outputId": "43ba7c8f-bd79-4641-f9d0-3e2fc0629a45"
      },
      "execution_count": 13,
      "outputs": [
        {
          "output_type": "stream",
          "name": "stdout",
          "text": [
            "Resultado da soma: 15\n"
          ]
        }
      ]
    },
    {
      "cell_type": "markdown",
      "source": [
        "Crie uma classe Pessoa com um método estático validar_idade(idade) que retorna True se a idade for maior ou igual a 18 e False caso contrário."
      ],
      "metadata": {
        "id": "r7S9cNVJaUO-"
      }
    },
    {
      "cell_type": "code",
      "source": [
        "class Pessoa:\n",
        "    def __init__(self, nome, idade):\n",
        "        self.nome = nome\n",
        "        self.idade = idade\n",
        "\n",
        "    @staticmethod\n",
        "    def validar_idade(idade):\n",
        "        return idade >= 18\n",
        "\n",
        "\n",
        "\n",
        "p = Pessoa(\"Ana\", 22)\n",
        "print(Pessoa.validar_idade(p.idade))\n",
        "\n"
      ],
      "metadata": {
        "colab": {
          "base_uri": "https://localhost:8080/"
        },
        "id": "d4hPACenabsp",
        "outputId": "08bf31bf-9bcb-4824-88ec-f84a4236689d"
      },
      "execution_count": 15,
      "outputs": [
        {
          "output_type": "stream",
          "name": "stdout",
          "text": [
            "True\n"
          ]
        }
      ]
    },
    {
      "cell_type": "code",
      "source": [
        "crie uma classe Produto com os atributos nome e preco. Adicione um método aplicar_desconto(desconto) que aplica um desconto ao preço do produto."
      ],
      "metadata": {
        "id": "y89mP9KOa5XU"
      },
      "execution_count": null,
      "outputs": []
    },
    {
      "cell_type": "code",
      "source": [
        "class Produto:\n",
        "    def __init__(self, nome, preco):\n",
        "        self.nome = nome\n",
        "        self.preco = preco\n",
        "\n",
        "    def aplicar_desconto(self, desconto):\n",
        "        \"\"\"\n",
        "        Aplica um desconto percentual ao preço.\n",
        "        Ex: desconto = 0.1 para 10%\n",
        "        \"\"\"\n",
        "        if 0 <= desconto <= 1:\n",
        "            self.preco -= self.preco * desconto\n",
        "        else:\n",
        "            print(\"Desconto inválido. Deve estar entre 0 e 1.\")\n",
        "\n",
        "    def __str__(self):\n",
        "        return f\"Produto: {self.nome} | Preço com desconto: R${self.preco:.2f}\"\n",
        "\n",
        "\n",
        "p = Produto(\"Notebook\", 3000)\n",
        "print(p)\n",
        "\n",
        "p.aplicar_desconto(0.15)\n",
        "print(p)\n"
      ],
      "metadata": {
        "colab": {
          "base_uri": "https://localhost:8080/"
        },
        "id": "Ykph6AHfa90F",
        "outputId": "f7f26b2c-e283-4177-cd94-91bf9ee01060"
      },
      "execution_count": 17,
      "outputs": [
        {
          "output_type": "stream",
          "name": "stdout",
          "text": [
            "Produto: Notebook | Preço com desconto: R$3000.00\n",
            "Produto: Notebook | Preço com desconto: R$2550.00\n"
          ]
        }
      ]
    },
    {
      "cell_type": "markdown",
      "source": [
        "Crie uma classe Banco com um atributo de classe taxa_juros. Adicione um método estático calcular_juros(saldo) que calcula os juros sobre um saldo, considerando a taxa de juros da classe.\n"
      ],
      "metadata": {
        "id": "yild1etAbHOd"
      }
    },
    {
      "cell_type": "code",
      "source": [
        "class Banco:\n",
        "    taxa_juros = 0.05\n",
        "\n",
        "    @staticmethod\n",
        "    def calcular_juros(saldo):\n",
        "        return saldo * Banco.taxa_juros\n",
        "\n",
        "\n",
        "saldo = 1000\n",
        "juros = Banco.calcular_juros(saldo)\n",
        "\n",
        "print(f\"Saldo: R${saldo:.2f}\")\n",
        "print(f\"Juros (5%): R${juros:.2f}\")\n"
      ],
      "metadata": {
        "colab": {
          "base_uri": "https://localhost:8080/"
        },
        "id": "zh8K-Ho2bQO5",
        "outputId": "4413c517-cc4a-4b82-fcdb-30d98893c5cd"
      },
      "execution_count": 18,
      "outputs": [
        {
          "output_type": "stream",
          "name": "stdout",
          "text": [
            "Saldo: R$1000.00\n",
            "Juros (5%): R$50.00\n"
          ]
        }
      ]
    },
    {
      "cell_type": "markdown",
      "source": [
        "Crie uma classe ContaBancaria com o atributo privado __saldo e um método depositar(valor) que aumenta o saldo.\n"
      ],
      "metadata": {
        "id": "rhHkKsvibdVc"
      }
    },
    {
      "cell_type": "code",
      "source": [
        "class ContaBancaria:\n",
        "    def __init__(self):\n",
        "        self.__saldo = 0\n",
        "\n",
        "    def depositar(self, valor):\n",
        "        if valor > 0:\n",
        "            self.__saldo += valor\n",
        "        else:\n",
        "            print(\"O valor do depósito deve ser positivo.\")\n",
        "\n",
        "    def mostrar_saldo(self):\n",
        "        return self.__saldo\n",
        "\n",
        "\n",
        "conta = ContaBancaria()\n",
        "conta.depositar(200)\n",
        "print(f\"Saldo atual: R${conta.mostrar_saldo():.2f}\")\n"
      ],
      "metadata": {
        "colab": {
          "base_uri": "https://localhost:8080/"
        },
        "id": "Wydw_5GZbiIh",
        "outputId": "02b9fc1e-d8eb-45ba-a49a-9f49aa55eae8"
      },
      "execution_count": 20,
      "outputs": [
        {
          "output_type": "stream",
          "name": "stdout",
          "text": [
            "Saldo atual: R$200.00\n"
          ]
        }
      ]
    },
    {
      "cell_type": "markdown",
      "source": [
        " Crie uma classe Carro com os atributos modelo e cor. Defina valores padrão para esses atributos caso não sejam passados durante a criação da instância.\n",
        ""
      ],
      "metadata": {
        "id": "zouCFklxbypd"
      }
    },
    {
      "cell_type": "code",
      "source": [
        "class Carro:\n",
        "    def __init__(self, modelo=\"Modelo Padrão\", cor=\"Preto\"):\n",
        "        self.modelo = modelo\n",
        "        self.cor = cor\n",
        "\n",
        "    def __str__(self):\n",
        "        return f\"Carro modelo: {self.modelo}, cor: {self.cor}\"\n",
        "\n",
        "carro1 = Carro(\"Sedan\", \"Vermelho\")\n",
        "carro2 = Carro()\n",
        "\n",
        "print(carro1)\n",
        "print(carro2)\n"
      ],
      "metadata": {
        "colab": {
          "base_uri": "https://localhost:8080/"
        },
        "id": "aAu2vmIEbzy8",
        "outputId": "65187aa1-adac-4b26-931e-935402f3a135"
      },
      "execution_count": 21,
      "outputs": [
        {
          "output_type": "stream",
          "name": "stdout",
          "text": [
            "Carro modelo: Sedan, cor: Vermelho\n",
            "Carro modelo: Modelo Padrão, cor: Preto\n"
          ]
        }
      ]
    },
    {
      "cell_type": "markdown",
      "source": [
        "Crie uma classe Aluno com os atributos nome e nota. Crie várias instâncias e modifique os atributos de cada uma de forma independente."
      ],
      "metadata": {
        "id": "rYaYRntwcHkI"
      }
    },
    {
      "cell_type": "code",
      "source": [
        "class Aluno:\n",
        "    def __init__(self, nome, nota):\n",
        "        self.nome = nome\n",
        "        self.nota = nota\n",
        "\n",
        "    def __str__(self):\n",
        "        return f\"Aluno: {self.nome} | Nota: {self.nota}\"\n",
        "\n",
        "\n",
        "\n",
        "aluno1 = Aluno(\"Ana\", 7)\n",
        "aluno2 = Aluno(\"Pedro\", 5)\n",
        "aluno3 = Aluno(\"Maria\", 9)\n",
        "\n",
        "print(aluno1)\n",
        "print(aluno2)\n",
        "print(aluno3)\n",
        "\n",
        "\n",
        "aluno1.nota = 8\n",
        "aluno2.nome = \"João\"\n",
        "aluno3.nota = 10\n",
        "\n",
        "print(\"\\nDepois das modificações:\")\n",
        "print(aluno1)\n",
        "print(aluno2)\n",
        "print(aluno3)\n"
      ],
      "metadata": {
        "colab": {
          "base_uri": "https://localhost:8080/"
        },
        "id": "_eLlWKBgcIK6",
        "outputId": "f2f4dd50-0153-4d2b-c4b4-0f5f25b46851"
      },
      "execution_count": 22,
      "outputs": [
        {
          "output_type": "stream",
          "name": "stdout",
          "text": [
            "Aluno: Ana | Nota: 7\n",
            "Aluno: Pedro | Nota: 5\n",
            "Aluno: Maria | Nota: 9\n",
            "\n",
            "Depois das modificações:\n",
            "Aluno: Ana | Nota: 8\n",
            "Aluno: João | Nota: 5\n",
            "Aluno: Maria | Nota: 10\n"
          ]
        }
      ]
    },
    {
      "cell_type": "markdown",
      "source": [
        "Crie uma classe Funcionario com um método salario() e uma classe Gerente que herda de Funcionario e sobrescreve o método salario() para retornar um valor maior."
      ],
      "metadata": {
        "id": "Gbk3svFecY-O"
      }
    },
    {
      "cell_type": "code",
      "source": [
        "class Funcionario:\n",
        "    def __init__(self, nome, salario_base):\n",
        "        self.nome = nome\n",
        "        self.salario_base = salario_base\n",
        "\n",
        "    def salario(self):\n",
        "        return self.salario_base\n",
        "\n",
        "    def __str__(self):\n",
        "        return f\"Funcionário: {self.nome} | Salário: R${self.salario():.2f}\"\n",
        "\n",
        "\n",
        "class Gerente(Funcionario):\n",
        "    def __init__(self, nome, salario_base, bonus=1000):\n",
        "        super().__init__(nome, salario_base)\n",
        "        self.bonus = bonus\n",
        "\n",
        "    def salario(self):\n",
        "\n",
        "        return self.salario_base + self.bonus\n",
        "\n",
        "    def __str__(self):\n",
        "        return f\"Gerente: {self.nome} | Salário com bônus: R${self.salario():.2f}\"\n",
        "\n",
        "f = Funcionario(\"Carlos\", 3000)\n",
        "g = Gerente(\"Mariana\", 3000, bonus=2000)\n",
        "\n",
        "print(f)\n",
        "print(g)\n"
      ],
      "metadata": {
        "colab": {
          "base_uri": "https://localhost:8080/"
        },
        "id": "fL1jsI-qcZhj",
        "outputId": "2599bfb6-da9b-44db-c371-3e901f20de63"
      },
      "execution_count": 24,
      "outputs": [
        {
          "output_type": "stream",
          "name": "stdout",
          "text": [
            "Funcionário: Carlos | Salário: R$3000.00\n",
            "Gerente: Mariana | Salário com bônus: R$5000.00\n"
          ]
        }
      ]
    },
    {
      "cell_type": "markdown",
      "source": [
        "Crie uma classe Curso com o atributo de instância nome e o atributo de classe quantidade_cursos. Adicione um método de classe alterar_quantidade_cursos() que modifica o valor de quantidade_cursos."
      ],
      "metadata": {
        "id": "128qMgOEck_P"
      }
    },
    {
      "cell_type": "code",
      "source": [
        "class Curso:\n",
        "    quantidade_cursos = 0\n",
        "\n",
        "    def __init__(self, nome):\n",
        "        self.nome = nome\n",
        "\n",
        "    @classmethod\n",
        "    def alterar_quantidade_cursos(cls, nova_quantidade):\n",
        "        cls.quantidade_cursos = nova_quantidade\n",
        "\n",
        "    def __str__(self):\n",
        "        return f\"Curso: {self.nome} | Quantidade total de cursos: {Curso.quantidade_cursos}\"\n",
        "\n",
        "\n",
        "c1 = Curso(\"Matemática\")\n",
        "c2 = Curso(\"Física\")\n",
        "\n",
        "print(c1)\n",
        "print(c2)\n",
        "\n",
        "\n",
        "Curso.alterar_quantidade_cursos(5)\n",
        "\n",
        "print(c1)\n",
        "print(c2)\n"
      ],
      "metadata": {
        "colab": {
          "base_uri": "https://localhost:8080/"
        },
        "id": "nfHIgR1ucmt4",
        "outputId": "d06dcb1f-f94a-4e11-d10d-c1fb6bd6c87d"
      },
      "execution_count": 26,
      "outputs": [
        {
          "output_type": "stream",
          "name": "stdout",
          "text": [
            "Curso: Matemática | Quantidade total de cursos: 0\n",
            "Curso: Física | Quantidade total de cursos: 0\n",
            "Curso: Matemática | Quantidade total de cursos: 5\n",
            "Curso: Física | Quantidade total de cursos: 5\n"
          ]
        }
      ]
    },
    {
      "cell_type": "markdown",
      "source": [
        "Crie uma classe Livro com um método de classe criar_livro(titulo, autor) que cria e retorna uma instância de Livro com base nos parâmetros passados.\n",
        "\n"
      ],
      "metadata": {
        "id": "7f9hZalBc19a"
      }
    },
    {
      "cell_type": "code",
      "source": [
        "class Livro:\n",
        "    def __init__(self, titulo, autor):\n",
        "        self.titulo = titulo\n",
        "        self.autor = autor\n",
        "\n",
        "    @classmethod\n",
        "    def criar_livro(cls, titulo, autor):\n",
        "        return cls(titulo, autor)\n",
        "\n",
        "    def __str__(self):\n",
        "        return f\"Livro: '{self.titulo}' | Autor: {self.autor}\"\n",
        "\n",
        "\n",
        "livro1 = Livro.criar_livro(\"Dom Casmurro\", \"Machado de Assis\")\n",
        "print(livro1)\n"
      ],
      "metadata": {
        "colab": {
          "base_uri": "https://localhost:8080/"
        },
        "id": "Qy1KkxL-c6Ta",
        "outputId": "6f1f6fb0-e40b-4697-c049-4df13666528b"
      },
      "execution_count": 28,
      "outputs": [
        {
          "output_type": "stream",
          "name": "stdout",
          "text": [
            "Livro: 'Dom Casmurro' | Autor: Machado de Assis\n"
          ]
        }
      ]
    },
    {
      "cell_type": "markdown",
      "source": [
        "Crie uma classe Conta com o atributo saldo e o método verificar_saldo(), que retorna uma mensagem diferente dependendo do valor do saldo."
      ],
      "metadata": {
        "id": "rSSePJiTdDIK"
      }
    },
    {
      "cell_type": "code",
      "source": [
        "class Conta:\n",
        "    def __init__(self, saldo):\n",
        "        self.saldo = saldo\n",
        "\n",
        "    def verificar_saldo(self):\n",
        "        if self.saldo > 0:\n",
        "            return f\"Saldo positivo: R${self.saldo:.2f}\"\n",
        "        elif self.saldo == 0:\n",
        "            return \"Saldo zerado.\"\n",
        "        else:\n",
        "            return f\"Saldo negativo: R${self.saldo:.2f}\"\n",
        "\n",
        "\n",
        "conta1 = Conta(150)\n",
        "conta2 = Conta(0)\n",
        "conta3 = Conta(-50)\n",
        "\n",
        "print(conta1.verificar_saldo())\n",
        "print(conta2.verificar_saldo())\n",
        "print(conta3.verificar_saldo())\n"
      ],
      "metadata": {
        "colab": {
          "base_uri": "https://localhost:8080/"
        },
        "id": "8u_bUUkudG89",
        "outputId": "014b3a32-76ee-4d2a-f86f-8309f1430ac8"
      },
      "execution_count": 29,
      "outputs": [
        {
          "output_type": "stream",
          "name": "stdout",
          "text": [
            "Saldo positivo: R$150.00\n",
            "Saldo zerado.\n",
            "Saldo negativo: R$-50.00\n"
          ]
        }
      ]
    },
    {
      "cell_type": "markdown",
      "source": [
        "Crie uma classe Pessoa com um atributo de classe total_pessoas. Cada vez que uma nova instância for criada, o total_pessoas deve ser incrementado. Teste a alteração com várias instâncias."
      ],
      "metadata": {
        "id": "JkR89JYldQP9"
      }
    },
    {
      "cell_type": "code",
      "source": [
        "class Pessoa:\n",
        "    total_pessoas = 0\n",
        "\n",
        "    def __init__(self, nome):\n",
        "        self.nome = nome\n",
        "        Pessoa.total_pessoas += 1\n",
        "\n",
        "\n",
        "p1 = Pessoa(\"Ana\")\n",
        "p2 = Pessoa(\"Pedro\")\n",
        "p3 = Pessoa(\"Maria\")\n",
        "\n",
        "print(f\"Total de pessoas criadas: {Pessoa.total_pessoas}\")\n"
      ],
      "metadata": {
        "colab": {
          "base_uri": "https://localhost:8080/"
        },
        "id": "roqxWeztdTlb",
        "outputId": "04dd5200-9c6a-489c-d302-a0d1a8afbf8c"
      },
      "execution_count": 31,
      "outputs": [
        {
          "output_type": "stream",
          "name": "stdout",
          "text": [
            "Total de pessoas criadas: 3\n"
          ]
        }
      ]
    },
    {
      "cell_type": "markdown",
      "source": [
        "Crie uma classe Aluno com os atributos nome e nota. Adicione um método de classe alterar_nome() que altera o nome de todos os alunos de uma lista."
      ],
      "metadata": {
        "id": "ev2cypQVdbhR"
      }
    },
    {
      "cell_type": "code",
      "source": [
        "class Aluno:\n",
        "    def __init__(self, nome, nota):\n",
        "        self.nome = nome\n",
        "        self.nota = nota\n",
        "\n",
        "    @classmethod\n",
        "    def alterar_nome(cls, lista_alunos, novo_nome):\n",
        "        for aluno in lista_alunos:\n",
        "            if isinstance(aluno, cls):\n",
        "                aluno.nome = novo_nome\n",
        "\n",
        "    def __str__(self):\n",
        "        return f\"Aluno: {self.nome} | Nota: {self.nota}\"\n",
        "\n",
        "\n",
        "alunos = [\n",
        "    Aluno(\"Ana\", 7),\n",
        "    Aluno(\"Pedro\", 5),\n",
        "    Aluno(\"Maria\", 9)\n",
        "]\n",
        "\n",
        "print(\"Antes da alteração:\")\n",
        "for aluno in alunos:\n",
        "    print(aluno)\n",
        "\n",
        "Aluno.alterar_nome(alunos, \"Aluno X\")\n",
        "\n",
        "print(\"\\nDepois da alteração:\")\n",
        "for aluno in alunos:\n",
        "    print(aluno)\n"
      ],
      "metadata": {
        "colab": {
          "base_uri": "https://localhost:8080/"
        },
        "id": "m8ChhtBvdfrL",
        "outputId": "f80cf432-f840-4571-c9da-6343f34665ad"
      },
      "execution_count": 32,
      "outputs": [
        {
          "output_type": "stream",
          "name": "stdout",
          "text": [
            "Antes da alteração:\n",
            "Aluno: Ana | Nota: 7\n",
            "Aluno: Pedro | Nota: 5\n",
            "Aluno: Maria | Nota: 9\n",
            "\n",
            "Depois da alteração:\n",
            "Aluno: Aluno X | Nota: 7\n",
            "Aluno: Aluno X | Nota: 5\n",
            "Aluno: Aluno X | Nota: 9\n"
          ]
        }
      ]
    },
    {
      "cell_type": "markdown",
      "source": [
        "Crie uma classe Venda com um método estático calcular_imposto(valor) que retorna o valor do imposto sobre o valor passado."
      ],
      "metadata": {
        "id": "bJAmb7IbdpIL"
      }
    },
    {
      "cell_type": "code",
      "source": [
        "class Venda:\n",
        "    @staticmethod\n",
        "    def calcular_imposto(valor):\n",
        "        aliquota = 0.10  # 10% de imposto\n",
        "        return valor * aliquota\n",
        "\n",
        "\n",
        "valor_venda = 500\n",
        "imposto = Venda.calcular_imposto(valor_venda)\n",
        "print(f\"Imposto sobre R${valor_venda:.2f} é R${imposto:.2f}\")\n"
      ],
      "metadata": {
        "colab": {
          "base_uri": "https://localhost:8080/"
        },
        "id": "fs4fcnrSdqJU",
        "outputId": "34830b6f-6ad6-4007-b078-65b85fa801ef"
      },
      "execution_count": 33,
      "outputs": [
        {
          "output_type": "stream",
          "name": "stdout",
          "text": [
            "Imposto sobre R$500.00 é R$50.00\n"
          ]
        }
      ]
    },
    {
      "cell_type": "markdown",
      "source": [
        "Tarefa: Crie uma classe Produto com um atributo de classe desconto e um método estático aplicar_desconto(preco) que aplica o desconto no preço do produto."
      ],
      "metadata": {
        "id": "P_EtPouSdxgz"
      }
    },
    {
      "cell_type": "code",
      "source": [
        "class Produto:\n",
        "    desconto = 0.10\n",
        "\n",
        "    @staticmethod\n",
        "    def aplicar_desconto(preco):\n",
        "        return preco * (1 - Produto.desconto)\n",
        "\n",
        "\n",
        "preco_original = 200\n",
        "preco_com_desconto = Produto.aplicar_desconto(preco_original)\n",
        "\n",
        "print(f\"Preço original: R${preco_original:.2f}\")\n",
        "print(f\"Preço com desconto: R${preco_com_desconto:.2f}\")\n"
      ],
      "metadata": {
        "colab": {
          "base_uri": "https://localhost:8080/"
        },
        "id": "6ff9IV2pd02N",
        "outputId": "369bd010-b617-4f44-a7ff-f57204ef7b51"
      },
      "execution_count": 34,
      "outputs": [
        {
          "output_type": "stream",
          "name": "stdout",
          "text": [
            "Preço original: R$200.00\n",
            "Preço com desconto: R$180.00\n"
          ]
        }
      ]
    },
    {
      "cell_type": "markdown",
      "source": [
        "Crie uma classe Pessoa com o atributo idade. Adicione um método de instância verificar_maioridade() que verifica se a pessoa é maior de idade."
      ],
      "metadata": {
        "id": "N6tmsAoGd75N"
      }
    },
    {
      "cell_type": "code",
      "source": [
        "class Pessoa:\n",
        "    def __init__(self, idade):\n",
        "        self.idade = idade\n",
        "\n",
        "    def verificar_maioridade(self):\n",
        "        return self.idade >= 18\n",
        "\n",
        "\n",
        "p1 = Pessoa(20)\n",
        "p2 = Pessoa(16)\n",
        "\n",
        "print(p1.verificar_maioridade())\n",
        "print(p2.verificar_maioridade())\n"
      ],
      "metadata": {
        "colab": {
          "base_uri": "https://localhost:8080/"
        },
        "id": "Nai3HS20d8X8",
        "outputId": "b29028d6-615e-4a22-cb9b-58a94d5821e2"
      },
      "execution_count": 35,
      "outputs": [
        {
          "output_type": "stream",
          "name": "stdout",
          "text": [
            "True\n",
            "False\n"
          ]
        }
      ]
    },
    {
      "cell_type": "markdown",
      "source": [
        "Crie uma classe Produto com os atributos nome e preco. Adicione um método de instância mostrar_info() que retorna uma string com os dados do produto."
      ],
      "metadata": {
        "id": "b-UeQ9dReFSe"
      }
    },
    {
      "cell_type": "code",
      "source": [
        "class Produto:\n",
        "    def __init__(self, nome, preco):\n",
        "        self.nome = nome\n",
        "        self.preco = preco\n",
        "\n",
        "    def mostrar_info(self):\n",
        "        return f\"Produto: {self.nome} | Preço: R${self.preco:.2f}\"\n",
        "\n",
        "\n",
        "produto1 = Produto(\"Camiseta\", 49.90)\n",
        "print(produto1.mostrar_info())\n"
      ],
      "metadata": {
        "colab": {
          "base_uri": "https://localhost:8080/"
        },
        "id": "QYtwKxjDeF9O",
        "outputId": "0c9b7b0c-c63f-4830-de25-1679dc2cb777"
      },
      "execution_count": 36,
      "outputs": [
        {
          "output_type": "stream",
          "name": "stdout",
          "text": [
            "Produto: Camiseta | Preço: R$49.90\n"
          ]
        }
      ]
    },
    {
      "cell_type": "markdown",
      "source": [
        "Crie uma classe ContaBancaria com um atributo de classe taxa_juros e um método estático calcular_juros(saldo) que calcula os juros sobre o saldo da conta."
      ],
      "metadata": {
        "id": "NuBNRGJdeO7-"
      }
    },
    {
      "cell_type": "code",
      "source": [
        "class ContaBancaria:\n",
        "    taxa_juros = 0.05\n",
        "\n",
        "    @staticmethod\n",
        "    def calcular_juros(saldo):\n",
        "        return saldo * ContaBancaria.taxa_juros\n",
        "\n",
        "saldo_atual = 1000\n",
        "juros = ContaBancaria.calcular_juros(saldo_atual)\n",
        "print(f\"Juros sobre o saldo de R${saldo_atual:.2f}: R${juros:.2f}\")\n",
        "\n"
      ],
      "metadata": {
        "colab": {
          "base_uri": "https://localhost:8080/"
        },
        "id": "rYrtemHweTij",
        "outputId": "07262e18-1321-43eb-a92d-d029ce03a442"
      },
      "execution_count": 37,
      "outputs": [
        {
          "output_type": "stream",
          "name": "stdout",
          "text": [
            "Juros sobre o saldo de R$1000.00: R$50.00\n"
          ]
        }
      ]
    },
    {
      "cell_type": "markdown",
      "source": [
        "Crie uma classe ContaBancaria com o atributo saldo e o método saque(valor). O saque só deve ser realizado se o valor for menor que o saldo."
      ],
      "metadata": {
        "id": "Neuv72rzebQK"
      }
    },
    {
      "cell_type": "code",
      "source": [
        "class ContaBancaria:\n",
        "    def __init__(self, saldo_inicial=0):\n",
        "        self.saldo = saldo_inicial\n",
        "\n",
        "    def saque(self, valor):\n",
        "        if valor <= self.saldo:\n",
        "            self.saldo -= valor\n",
        "            print(f\"Saque de R${valor:.2f} realizado com sucesso.\")\n",
        "        else:\n",
        "            print(\"Saldo insuficiente para realizar o saque.\")\n",
        "\n",
        "    def mostrar_saldo(self):\n",
        "        return f\"Saldo atual: R${self.saldo:.2f}\"\n",
        "\n",
        "\n",
        "conta = ContaBancaria(500)\n",
        "print(conta.mostrar_saldo())\n",
        "\n",
        "conta.saque(200)\n",
        "print(conta.mostrar_saldo())\n",
        "\n",
        "conta.saque(400)\n",
        "print(conta.mostrar_saldo())"
      ],
      "metadata": {
        "colab": {
          "base_uri": "https://localhost:8080/"
        },
        "id": "AfVtKJmRef8_",
        "outputId": "1ef1b5d6-061e-44fd-e3b0-ddf441e0029c"
      },
      "execution_count": 38,
      "outputs": [
        {
          "output_type": "stream",
          "name": "stdout",
          "text": [
            "Saldo atual: R$500.00\n",
            "Saque de R$200.00 realizado com sucesso.\n",
            "Saldo atual: R$300.00\n",
            "Saldo insuficiente para realizar o saque.\n",
            "Saldo atual: R$300.00\n"
          ]
        }
      ]
    },
    {
      "cell_type": "markdown",
      "source": [
        "Crie uma classe Cliente com o atributo nome e um método estático validar_cpf(cpf) que retorna True se o CPF for válido. Use esse método no método de instância cadastrar_cliente()."
      ],
      "metadata": {
        "id": "sgSF1bt9eqLU"
      }
    },
    {
      "cell_type": "code",
      "source": [
        "import re\n",
        "\n",
        "class Cliente:\n",
        "    def __init__(self, nome):\n",
        "        self.nome = nome\n",
        "        self.cpf = None\n",
        "\n",
        "    @staticmethod\n",
        "    def validar_cpf(cpf):\n",
        "\n",
        "        return bool(re.fullmatch(r\"\\d{11}\", cpf))\n",
        "\n",
        "    def cadastrar_cliente(self, cpf):\n",
        "        if Cliente.validar_cpf(cpf):\n",
        "            self.cpf = cpf\n",
        "            print(f\"Cliente {self.nome} cadastrado com CPF {self.cpf}.\")\n",
        "            return True\n",
        "        else:\n",
        "            print(\"CPF inválido. Cadastro não realizado.\")\n",
        "            return False\n",
        "\n",
        "\n",
        "cliente1 = Cliente(\"Ana\")\n",
        "cliente1.cadastrar_cliente(\"12345678901\")\n",
        "\n",
        "cliente2 = Cliente(\"Pedro\")\n",
        "cliente2.cadastrar_cliente(\"1234abc8901\")"
      ],
      "metadata": {
        "colab": {
          "base_uri": "https://localhost:8080/"
        },
        "id": "FbDAdz_2eqp2",
        "outputId": "da579f9b-c9b8-437e-f1ca-796f2539f357"
      },
      "execution_count": 39,
      "outputs": [
        {
          "output_type": "stream",
          "name": "stdout",
          "text": [
            "Cliente Ana cadastrado com CPF 12345678901.\n",
            "CPF inválido. Cadastro não realizado.\n"
          ]
        },
        {
          "output_type": "execute_result",
          "data": {
            "text/plain": [
              "False"
            ]
          },
          "metadata": {},
          "execution_count": 39
        }
      ]
    }
  ]
}